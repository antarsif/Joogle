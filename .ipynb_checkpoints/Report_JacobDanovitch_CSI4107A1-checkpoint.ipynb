{
 "cells": [
  {
   "cell_type": "markdown",
   "metadata": {},
   "source": [
    "# Joogle - CSI4107 Search Engine Project\n",
    "#### By: Jacob Danovitch"
   ]
  },
  {
   "cell_type": "markdown",
   "metadata": {},
   "source": [
    "## System Architecture"
   ]
  },
  {
   "cell_type": "markdown",
   "metadata": {},
   "source": [
    "## Modules - Mandatory"
   ]
  },
  {
   "cell_type": "markdown",
   "metadata": {},
   "source": [
    "### Corpus Pre-Processing"
   ]
  },
  {
   "cell_type": "markdown",
   "metadata": {},
   "source": [
    "#### File(s) \n",
    "\n",
    "* `uottawa_scrape.py`\n",
    "\n",
    "#### Description\n",
    "\n",
    "This module scrapes and parses the uOttawa course catalogue using `requests` and `beautifulsoup4`, saving the data to [`data/catalogue-uottawa-ca.json`](data/catalogue-uottawa-ca.json).\n",
    "\n",
    "#### Demonstration"
   ]
  },
  {
   "cell_type": "markdown",
   "metadata": {},
   "source": [
    "First, the HTML is acquired using the `requests` library, and a `BeautifulSoup` object is created."
   ]
  },
  {
   "cell_type": "code",
   "execution_count": 28,
   "metadata": {},
   "outputs": [
    {
     "name": "stdout",
     "output_type": "stream",
     "text": [
      "\n",
      "CSI 1306 Computing Concepts for Business (3 units)\n",
      "\n",
      "Introduction to computer-based problem solving from the perspective of the business world. Design of algorithms for solving business problems. Basics of computer programming in a modern programming language. Solving business problems using application packages including spreadsheets and databases. Basics of web design. Collaborative tools. Using open source software.Course Component: Laboratory, LectureThe courses ITI 1120, GNG 1106, CSI 1306, CSI 1308, CSI 1390 cannot be combined for credits.\n"
     ]
    }
   ],
   "source": [
    "from uottawa_scrape import *\n",
    "\n",
    "html = scrape(to_file=False)\n",
    "print(html.find(\"div\", {\"class\": \"courseblock\"}).text)"
   ]
  },
  {
   "cell_type": "markdown",
   "metadata": {},
   "source": [
    "The HTML is then parsed using `beautifulsoup4`, such that it is stored in the following format."
   ]
  },
  {
   "cell_type": "code",
   "execution_count": 3,
   "metadata": {},
   "outputs": [
    {
     "name": "stdout",
     "output_type": "stream",
     "text": [
      "{'id': 0, 'title': 'CSI 1306 Computing Concepts for Business (3 units)', 'body': 'Introduction to computer-based problem solving from the perspective of the business world. Design of algorithms for solving business problems. Basics of computer programming in a modern programming language. Solving business problems using application packages including spreadsheets and databases. Basics of web design. Collaborative tools. Using open source software.'}\n"
     ]
    }
   ],
   "source": [
    "output = to_json(html, filename=None)\n",
    "print(output[0])"
   ]
  },
  {
   "cell_type": "markdown",
   "metadata": {},
   "source": [
    "This format facilitates easily manipulating and rendering the data using other modules."
   ]
  },
  {
   "cell_type": "markdown",
   "metadata": {},
   "source": [
    "<hr/>"
   ]
  },
  {
   "cell_type": "markdown",
   "metadata": {},
   "source": [
    "### User Interface"
   ]
  },
  {
   "cell_type": "markdown",
   "metadata": {},
   "source": [
    "#### File(s) \n",
    "\n",
    "* `app.py`\n",
    "* `templates/`\n",
    "    * `static/`\n",
    "        * `css/`\n",
    "        * `js/`\n",
    "        * `img/`\n",
    "    * `index.html`\n",
    "    * `layouts.html`\n",
    "    * `about.html`\n",
    "    * `404.html`\n",
    "\n",
    "\n",
    "#### Description\n",
    "\n",
    "This module is implemented as a small Flask app. The UI is a parody of Google (see acknowledgements section below), allowing users to search the catalogue using either retrieval module.\n",
    "\n",
    "#### Demonstration\n",
    "\n",
    "See [Demo](#Demo) below for a full demonstration."
   ]
  },
  {
   "cell_type": "markdown",
   "metadata": {},
   "source": [
    "<hr/>"
   ]
  },
  {
   "cell_type": "markdown",
   "metadata": {},
   "source": [
    "### Dictionary building"
   ]
  },
  {
   "cell_type": "markdown",
   "metadata": {},
   "source": [
    "#### File(s) \n",
    "\n",
    "* `build_dictionary.py`\n",
    "* `construct_index.py`\n",
    "* `retrieval_model.py`\n",
    "\n",
    "#### Description\n",
    "\n",
    "This module contains utilities used to build the dictionary for the retrieval models. The actual construction of the dictionary takes place in `retrieval_model.py`.\n",
    "\n",
    "#### Demonstration\n",
    "\n",
    "Note that due to the inclusion of the optional [phrase query indexing](#Phrase-Query-Indexing) module, said module is also a part of the dictionary building process. This will be expanded upon further in its own section below."
   ]
  },
  {
   "cell_type": "markdown",
   "metadata": {},
   "source": [
    "First, we reference the data created from the scraping model as seen above. We narrow the data to focus only on the descriptions (the titles were **not** made part of the dictionary)."
   ]
  },
  {
   "cell_type": "code",
   "execution_count": 4,
   "metadata": {},
   "outputs": [
    {
     "data": {
      "text/plain": [
       "'Introduction to computer-based problem solving from the perspective of the business world. Design of algorithms for solving business problems. Basics of computer programming in a modern programming language. Solving business problems using application packages including spreadsheets and databases. Basics of web design. Collaborative tools. Using open source software.'"
      ]
     },
     "execution_count": 4,
     "metadata": {},
     "output_type": "execute_result"
    }
   ],
   "source": [
    "import json\n",
    "\n",
    "data = json.load(open(\"data/catalogue-uottawa-ca.json\"))\n",
    "descriptions = [row['body'] for row in data]\n",
    "descriptions[0]"
   ]
  },
  {
   "cell_type": "markdown",
   "metadata": {},
   "source": [
    "These descriptions are then passed to the `clean` function from `build_dictionary.py`, which performs casing, normalization, lemmatization, stopword removal, and tokenization."
   ]
  },
  {
   "cell_type": "code",
   "execution_count": 5,
   "metadata": {},
   "outputs": [
    {
     "name": "stdout",
     "output_type": "stream",
     "text": [
      "{'spreadsheet', 'web', 'database', 'package', 'using', 'language', 'source', 'problem', 'based', 'application', 'algorithm', 'business', 'basic', 'modern', 'programming', 'perspective', 'design', 'including', 'tool', 'computer', 'collaborative', 'software', 'solving', 'world', 'open', 'introduction'}\n"
     ]
    }
   ],
   "source": [
    "from build_dictionary import clean\n",
    "print(clean(descriptions[0]))"
   ]
  },
  {
   "cell_type": "markdown",
   "metadata": {},
   "source": [
    "<hr/>"
   ]
  },
  {
   "cell_type": "markdown",
   "metadata": {},
   "source": [
    "### Inverted Index Construction"
   ]
  },
  {
   "cell_type": "markdown",
   "metadata": {},
   "source": [
    "#### File(s) \n",
    "\n",
    "* `construct_index.py`\n",
    "\n",
    "#### Description\n",
    "\n",
    "#### Demonstration"
   ]
  },
  {
   "cell_type": "markdown",
   "metadata": {},
   "source": [
    "The descriptions above are passed to the `build_postings` function, which returns both the index and the term dictionary. The index is constructed first, as follows:"
   ]
  },
  {
   "cell_type": "code",
   "execution_count": 6,
   "metadata": {},
   "outputs": [
    {
     "name": "stdout",
     "output_type": "stream",
     "text": [
      "(0, ['algorithm', 'modern', 'package', 'programming', 'web', 'perspective', 'design', 'including', 'basic', 'using', 'tool', 'computer', 'language', 'collaborative', 'software', 'source', 'solving', 'problem', 'based', 'spreadsheet', 'application', 'database', 'world', 'open', 'introduction', 'business', 'problem'])\n"
     ]
    }
   ],
   "source": [
    "from construct_index import build_postings\n",
    "\n",
    "index, term_dict = build_postings(descriptions)\n",
    "print(index[0])"
   ]
  },
  {
   "cell_type": "markdown",
   "metadata": {},
   "source": [
    "Then, the term dictionary is constructed from the index. As it is, of course, a dictionary, retrieval is completed in **constant** $\\mathcal{O}(1)$ time. \n",
    "\n",
    "Its construction is completed in $\\mathcal{O}(n \\cdot (m+1))$ time, where $m$ is the number of words in the longest document in the corpus. The $n$ documents contained in the `.json` data are iterated over once to construct the index (as seen above) containing $n$ rows. Then, each of the $n$ rows of the index is  to construct the term dictionary. At each row, $m$ words are iterated over, incrementally updating its associated count. Pseudocode is presented below.\n",
    "\n",
    "```python\n",
    "for (doc_id, words) in index:\n",
    "    for word in words:\n",
    "        term_dict[doc_id][word] += 1\n",
    "```\n",
    "\n",
    "The outer loop performs $n$ iterations of $m$ steps each for $O(n\\cdot m)$ time. Combined with the $n$ iterations of the index construction, we have $\\mathcal{O}(n+n\\cdot m) = \\mathcal{O}(n\\cdot(m+1))$ time.\n",
    "\n",
    "Finally, both are returned.\n",
    "\n",
    "**Note**: As an implementation decision, the weights are calculated later, in the `VSM` model itself. This simply made for a cleaner and more organized project structure. The weights could have been included here otherwise."
   ]
  },
  {
   "cell_type": "code",
   "execution_count": 7,
   "metadata": {},
   "outputs": [
    {
     "name": "stdout",
     "output_type": "stream",
     "text": [
      "{0: 1, 1: 1, 2: 1, 3: 1, 4: 1, 9: 2, 17: 1, 21: 1, 31: 2, 34: 1, 36: 1, 38: 1, 48: 1, 50: 1, 51: 1, 55: 1, 66: 1, 71: 1, 73: 1, 74: 1, 75: 1, 76: 1, 78: 1, 84: 1, 86: 1, 87: 1, 92: 1}\n"
     ]
    }
   ],
   "source": [
    "print(term_dict['algorithm'])"
   ]
  },
  {
   "cell_type": "markdown",
   "metadata": {},
   "source": [
    "<hr/>"
   ]
  },
  {
   "cell_type": "markdown",
   "metadata": {},
   "source": [
    "### Corpus Access"
   ]
  },
  {
   "cell_type": "markdown",
   "metadata": {},
   "source": [
    "#### File(s) \n",
    "\n",
    "* same as in [User Interface](#User-Interface)\n",
    "\n",
    "#### Description\n",
    "\n",
    "This module is implemented within the user interface, seen within the search results.\n",
    "\n",
    "#### Demonstration\n",
    "\n",
    "See [Demo](#Demo) below for a full demonstration."
   ]
  },
  {
   "cell_type": "markdown",
   "metadata": {},
   "source": [
    "<hr/>"
   ]
  },
  {
   "cell_type": "markdown",
   "metadata": {},
   "source": [
    "### Boolean model of information retrieval"
   ]
  },
  {
   "cell_type": "markdown",
   "metadata": {},
   "source": [
    "#### File(s) \n",
    "\n",
    "* `brm.py`\n",
    "\n",
    "#### Description\n",
    "\n",
    "The `BRM` (Boolean Retrieval Model) class operates as a model to query the corpus using boolean searches.\n",
    "\n",
    "#### Demonstration\n",
    "\n",
    "The `boolean.py` library is used for symbolic manipulation. The query is parsed as a logical expression, and then each literal word of the query is cleaned using the previous module."
   ]
  },
  {
   "cell_type": "code",
   "execution_count": 8,
   "metadata": {},
   "outputs": [
    {
     "data": {
      "text/plain": [
       "OR(Symbol('computer'), AND(Symbol('systems'), Symbol('data')))"
      ]
     },
     "execution_count": 8,
     "metadata": {},
     "output_type": "execute_result"
    }
   ],
   "source": [
    "from brm import *\n",
    "\n",
    "b = BRM()\n",
    "q = \"(computer OR systems) AND (data)\"\n",
    "\n",
    "b.preprocess_query(q)"
   ]
  },
  {
   "cell_type": "markdown",
   "metadata": {},
   "source": [
    "For each document, the truth value of each symbol is evaluated as the presence of the word in the document to resolve the expression. Each of the $n$ documents are evaluated, for a query complexity of $\\mathcal{O}(n)$.\n",
    "\n",
    "As the `BRM` is unranked, the `top_n` argument will simply return the first `n` documents found and is only useful for demonstration purposes (as in this instance) or for the UI to paginate the results (not yet implemented)."
   ]
  },
  {
   "cell_type": "code",
   "execution_count": 9,
   "metadata": {},
   "outputs": [
    {
     "data": {
      "text/html": [
       "<div>\n",
       "<style scoped>\n",
       "    .dataframe tbody tr th:only-of-type {\n",
       "        vertical-align: middle;\n",
       "    }\n",
       "\n",
       "    .dataframe tbody tr th {\n",
       "        vertical-align: top;\n",
       "    }\n",
       "\n",
       "    .dataframe thead th {\n",
       "        text-align: right;\n",
       "    }\n",
       "</style>\n",
       "<table border=\"1\" class=\"dataframe\">\n",
       "  <thead>\n",
       "    <tr style=\"text-align: right;\">\n",
       "      <th></th>\n",
       "      <th>title</th>\n",
       "      <th>body</th>\n",
       "    </tr>\n",
       "  </thead>\n",
       "  <tbody>\n",
       "    <tr>\n",
       "      <th>0</th>\n",
       "      <td>CSI 1306 Computing Concepts for Business (3 un...</td>\n",
       "      <td>Introduction to computer-based problem solving...</td>\n",
       "    </tr>\n",
       "    <tr>\n",
       "      <th>1</th>\n",
       "      <td>CSI 1308 Introduction to Computing Concepts (3...</td>\n",
       "      <td>Introduction to computer based problem solving...</td>\n",
       "    </tr>\n",
       "    <tr>\n",
       "      <th>2</th>\n",
       "      <td>CSI 1390 Introduction to Computers (3 units)</td>\n",
       "      <td>Computing and computers. Problem solving and a...</td>\n",
       "    </tr>\n",
       "    <tr>\n",
       "      <th>3</th>\n",
       "      <td>CSI 2101 Discrete Structures (3 units)</td>\n",
       "      <td>Discrete structures as they apply to computer ...</td>\n",
       "    </tr>\n",
       "    <tr>\n",
       "      <th>21</th>\n",
       "      <td>CSI 4109 Introduction to Distributed Computing...</td>\n",
       "      <td>Computational models. Communication complexity...</td>\n",
       "    </tr>\n",
       "  </tbody>\n",
       "</table>\n",
       "</div>"
      ],
      "text/plain": [
       "                                                title  \\\n",
       "0   CSI 1306 Computing Concepts for Business (3 un...   \n",
       "1   CSI 1308 Introduction to Computing Concepts (3...   \n",
       "2        CSI 1390 Introduction to Computers (3 units)   \n",
       "3              CSI 2101 Discrete Structures (3 units)   \n",
       "21  CSI 4109 Introduction to Distributed Computing...   \n",
       "\n",
       "                                                 body  \n",
       "0   Introduction to computer-based problem solving...  \n",
       "1   Introduction to computer based problem solving...  \n",
       "2   Computing and computers. Problem solving and a...  \n",
       "3   Discrete structures as they apply to computer ...  \n",
       "21  Computational models. Communication complexity...  "
      ]
     },
     "execution_count": 9,
     "metadata": {},
     "output_type": "execute_result"
    }
   ],
   "source": [
    "b.query(q, top_n=5)"
   ]
  },
  {
   "cell_type": "markdown",
   "metadata": {},
   "source": [
    "<hr/>"
   ]
  },
  {
   "cell_type": "markdown",
   "metadata": {},
   "source": [
    "### Vector Space Model of information retrieval"
   ]
  },
  {
   "cell_type": "markdown",
   "metadata": {},
   "source": [
    "#### File(s) \n",
    "\n",
    "* `vsm.py`\n",
    "\n",
    "#### Description\n",
    "\n",
    "The `VSM` (Vector Space Model) class operates as a model to query the corpus using $\\mathtt{tf-idf}$ retrieval. \n",
    "\n",
    "#### Demonstration\n",
    "\n",
    "The $\\mathtt{tf-idf}$ scores are computed for each $w_i, d_i$ pair upon construction of the model."
   ]
  },
  {
   "cell_type": "code",
   "execution_count": 10,
   "metadata": {},
   "outputs": [
    {
     "data": {
      "text/html": [
       "<div>\n",
       "<style scoped>\n",
       "    .dataframe tbody tr th:only-of-type {\n",
       "        vertical-align: middle;\n",
       "    }\n",
       "\n",
       "    .dataframe tbody tr th {\n",
       "        vertical-align: top;\n",
       "    }\n",
       "\n",
       "    .dataframe thead th {\n",
       "        text-align: right;\n",
       "    }\n",
       "</style>\n",
       "<table border=\"1\" class=\"dataframe\">\n",
       "  <thead>\n",
       "    <tr style=\"text-align: right;\">\n",
       "      <th></th>\n",
       "      <th>0</th>\n",
       "      <th>1</th>\n",
       "      <th>2</th>\n",
       "      <th>3</th>\n",
       "      <th>4</th>\n",
       "      <th>5</th>\n",
       "      <th>6</th>\n",
       "      <th>7</th>\n",
       "      <th>8</th>\n",
       "      <th>9</th>\n",
       "      <th>...</th>\n",
       "      <th>92</th>\n",
       "      <th>93</th>\n",
       "      <th>94</th>\n",
       "      <th>95</th>\n",
       "      <th>96</th>\n",
       "      <th>97</th>\n",
       "      <th>98</th>\n",
       "      <th>99</th>\n",
       "      <th>100</th>\n",
       "      <th>101</th>\n",
       "    </tr>\n",
       "  </thead>\n",
       "  <tbody>\n",
       "    <tr>\n",
       "      <th>algorithm</th>\n",
       "      <td>0.577236</td>\n",
       "      <td>0.577236</td>\n",
       "      <td>0.577236</td>\n",
       "      <td>0.577236</td>\n",
       "      <td>0.577236</td>\n",
       "      <td>0.000000</td>\n",
       "      <td>0.0</td>\n",
       "      <td>0.000000</td>\n",
       "      <td>0.0</td>\n",
       "      <td>1.154473</td>\n",
       "      <td>...</td>\n",
       "      <td>0.577236</td>\n",
       "      <td>0.000000</td>\n",
       "      <td>0.0</td>\n",
       "      <td>0.0</td>\n",
       "      <td>0.0</td>\n",
       "      <td>0.0</td>\n",
       "      <td>0.0</td>\n",
       "      <td>0.0</td>\n",
       "      <td>0.0</td>\n",
       "      <td>0.0</td>\n",
       "    </tr>\n",
       "    <tr>\n",
       "      <th>modern</th>\n",
       "      <td>1.707570</td>\n",
       "      <td>0.000000</td>\n",
       "      <td>0.000000</td>\n",
       "      <td>0.000000</td>\n",
       "      <td>0.000000</td>\n",
       "      <td>0.000000</td>\n",
       "      <td>0.0</td>\n",
       "      <td>0.000000</td>\n",
       "      <td>0.0</td>\n",
       "      <td>0.000000</td>\n",
       "      <td>...</td>\n",
       "      <td>0.000000</td>\n",
       "      <td>0.000000</td>\n",
       "      <td>0.0</td>\n",
       "      <td>0.0</td>\n",
       "      <td>0.0</td>\n",
       "      <td>0.0</td>\n",
       "      <td>0.0</td>\n",
       "      <td>0.0</td>\n",
       "      <td>0.0</td>\n",
       "      <td>0.0</td>\n",
       "    </tr>\n",
       "    <tr>\n",
       "      <th>package</th>\n",
       "      <td>1.707570</td>\n",
       "      <td>1.707570</td>\n",
       "      <td>0.000000</td>\n",
       "      <td>0.000000</td>\n",
       "      <td>0.000000</td>\n",
       "      <td>0.000000</td>\n",
       "      <td>0.0</td>\n",
       "      <td>0.000000</td>\n",
       "      <td>0.0</td>\n",
       "      <td>0.000000</td>\n",
       "      <td>...</td>\n",
       "      <td>0.000000</td>\n",
       "      <td>0.000000</td>\n",
       "      <td>0.0</td>\n",
       "      <td>0.0</td>\n",
       "      <td>0.0</td>\n",
       "      <td>0.0</td>\n",
       "      <td>0.0</td>\n",
       "      <td>0.0</td>\n",
       "      <td>0.0</td>\n",
       "      <td>0.0</td>\n",
       "    </tr>\n",
       "    <tr>\n",
       "      <th>programming</th>\n",
       "      <td>0.729847</td>\n",
       "      <td>0.729847</td>\n",
       "      <td>0.729847</td>\n",
       "      <td>0.000000</td>\n",
       "      <td>0.000000</td>\n",
       "      <td>0.729847</td>\n",
       "      <td>0.0</td>\n",
       "      <td>0.729847</td>\n",
       "      <td>0.0</td>\n",
       "      <td>0.729847</td>\n",
       "      <td>...</td>\n",
       "      <td>0.000000</td>\n",
       "      <td>0.000000</td>\n",
       "      <td>0.0</td>\n",
       "      <td>0.0</td>\n",
       "      <td>0.0</td>\n",
       "      <td>0.0</td>\n",
       "      <td>0.0</td>\n",
       "      <td>0.0</td>\n",
       "      <td>0.0</td>\n",
       "      <td>0.0</td>\n",
       "    </tr>\n",
       "    <tr>\n",
       "      <th>web</th>\n",
       "      <td>1.054358</td>\n",
       "      <td>0.000000</td>\n",
       "      <td>0.000000</td>\n",
       "      <td>0.000000</td>\n",
       "      <td>0.000000</td>\n",
       "      <td>0.000000</td>\n",
       "      <td>0.0</td>\n",
       "      <td>0.000000</td>\n",
       "      <td>0.0</td>\n",
       "      <td>0.000000</td>\n",
       "      <td>...</td>\n",
       "      <td>0.000000</td>\n",
       "      <td>1.054358</td>\n",
       "      <td>0.0</td>\n",
       "      <td>0.0</td>\n",
       "      <td>0.0</td>\n",
       "      <td>0.0</td>\n",
       "      <td>0.0</td>\n",
       "      <td>0.0</td>\n",
       "      <td>0.0</td>\n",
       "      <td>0.0</td>\n",
       "    </tr>\n",
       "  </tbody>\n",
       "</table>\n",
       "<p>5 rows × 102 columns</p>\n",
       "</div>"
      ],
      "text/plain": [
       "                  0         1         2         3         4         5    6    \\\n",
       "algorithm    0.577236  0.577236  0.577236  0.577236  0.577236  0.000000  0.0   \n",
       "modern       1.707570  0.000000  0.000000  0.000000  0.000000  0.000000  0.0   \n",
       "package      1.707570  1.707570  0.000000  0.000000  0.000000  0.000000  0.0   \n",
       "programming  0.729847  0.729847  0.729847  0.000000  0.000000  0.729847  0.0   \n",
       "web          1.054358  0.000000  0.000000  0.000000  0.000000  0.000000  0.0   \n",
       "\n",
       "                  7    8         9   ...        92        93   94   95   96   \\\n",
       "algorithm    0.000000  0.0  1.154473 ...   0.577236  0.000000  0.0  0.0  0.0   \n",
       "modern       0.000000  0.0  0.000000 ...   0.000000  0.000000  0.0  0.0  0.0   \n",
       "package      0.000000  0.0  0.000000 ...   0.000000  0.000000  0.0  0.0  0.0   \n",
       "programming  0.729847  0.0  0.729847 ...   0.000000  0.000000  0.0  0.0  0.0   \n",
       "web          0.000000  0.0  0.000000 ...   0.000000  1.054358  0.0  0.0  0.0   \n",
       "\n",
       "             97   98   99   100  101  \n",
       "algorithm    0.0  0.0  0.0  0.0  0.0  \n",
       "modern       0.0  0.0  0.0  0.0  0.0  \n",
       "package      0.0  0.0  0.0  0.0  0.0  \n",
       "programming  0.0  0.0  0.0  0.0  0.0  \n",
       "web          0.0  0.0  0.0  0.0  0.0  \n",
       "\n",
       "[5 rows x 102 columns]"
      ]
     },
     "execution_count": 10,
     "metadata": {},
     "output_type": "execute_result"
    }
   ],
   "source": [
    "from vsm import *\n",
    "\n",
    "v = VSM()\n",
    "v.d_w.T.head()"
   ]
  },
  {
   "cell_type": "markdown",
   "metadata": {},
   "source": [
    "At runtime, the query is pre-processed in the same fashion as the documents were processed orginally."
   ]
  },
  {
   "cell_type": "code",
   "execution_count": 11,
   "metadata": {},
   "outputs": [
    {
     "data": {
      "text/plain": [
       "{'operating', 'system'}"
      ]
     },
     "execution_count": 11,
     "metadata": {},
     "output_type": "execute_result"
    }
   ],
   "source": [
    "q = \"operating systems\"\n",
    "q = clean(q)\n",
    "q"
   ]
  },
  {
   "cell_type": "markdown",
   "metadata": {},
   "source": [
    "Only relevant documents are selected from the weight matrix. As the matrix is a $2$-d array, this access takes place in $O(w)$ time, where $w$ is the number of words in the processed query.\n",
    "\n",
    "This is mathematically equivalent to performing an inner product on the weight matrix with one-hot vectors for each word, but it is clearly more space-efficient to simply slice the rows in question."
   ]
  },
  {
   "cell_type": "code",
   "execution_count": 12,
   "metadata": {},
   "outputs": [
    {
     "data": {
      "text/html": [
       "<div>\n",
       "<style scoped>\n",
       "    .dataframe tbody tr th:only-of-type {\n",
       "        vertical-align: middle;\n",
       "    }\n",
       "\n",
       "    .dataframe tbody tr th {\n",
       "        vertical-align: top;\n",
       "    }\n",
       "\n",
       "    .dataframe thead th {\n",
       "        text-align: right;\n",
       "    }\n",
       "</style>\n",
       "<table border=\"1\" class=\"dataframe\">\n",
       "  <thead>\n",
       "    <tr style=\"text-align: right;\">\n",
       "      <th></th>\n",
       "      <th>0</th>\n",
       "      <th>1</th>\n",
       "      <th>2</th>\n",
       "      <th>3</th>\n",
       "      <th>4</th>\n",
       "      <th>5</th>\n",
       "      <th>6</th>\n",
       "      <th>7</th>\n",
       "      <th>8</th>\n",
       "      <th>9</th>\n",
       "      <th>...</th>\n",
       "      <th>92</th>\n",
       "      <th>93</th>\n",
       "      <th>94</th>\n",
       "      <th>95</th>\n",
       "      <th>96</th>\n",
       "      <th>97</th>\n",
       "      <th>98</th>\n",
       "      <th>99</th>\n",
       "      <th>100</th>\n",
       "      <th>101</th>\n",
       "    </tr>\n",
       "  </thead>\n",
       "  <tbody>\n",
       "    <tr>\n",
       "      <th>operating</th>\n",
       "      <td>0.0</td>\n",
       "      <td>0.0</td>\n",
       "      <td>0.0</td>\n",
       "      <td>0.0</td>\n",
       "      <td>0.0</td>\n",
       "      <td>0.0</td>\n",
       "      <td>0.0</td>\n",
       "      <td>0.0</td>\n",
       "      <td>0.0</td>\n",
       "      <td>0.0</td>\n",
       "      <td>...</td>\n",
       "      <td>0.0</td>\n",
       "      <td>0.0</td>\n",
       "      <td>0.0</td>\n",
       "      <td>0.0</td>\n",
       "      <td>0.0</td>\n",
       "      <td>0.0</td>\n",
       "      <td>0.0</td>\n",
       "      <td>0.0</td>\n",
       "      <td>0.0</td>\n",
       "      <td>0.0</td>\n",
       "    </tr>\n",
       "    <tr>\n",
       "      <th>system</th>\n",
       "      <td>0.0</td>\n",
       "      <td>0.0</td>\n",
       "      <td>0.0</td>\n",
       "      <td>0.0</td>\n",
       "      <td>0.0</td>\n",
       "      <td>0.0</td>\n",
       "      <td>0.0</td>\n",
       "      <td>0.0</td>\n",
       "      <td>0.0</td>\n",
       "      <td>0.0</td>\n",
       "      <td>...</td>\n",
       "      <td>0.0</td>\n",
       "      <td>0.0</td>\n",
       "      <td>0.0</td>\n",
       "      <td>0.0</td>\n",
       "      <td>0.0</td>\n",
       "      <td>0.0</td>\n",
       "      <td>0.0</td>\n",
       "      <td>0.0</td>\n",
       "      <td>0.0</td>\n",
       "      <td>0.0</td>\n",
       "    </tr>\n",
       "  </tbody>\n",
       "</table>\n",
       "<p>2 rows × 102 columns</p>\n",
       "</div>"
      ],
      "text/plain": [
       "           0    1    2    3    4    5    6    7    8    9   ...   92   93   \\\n",
       "operating  0.0  0.0  0.0  0.0  0.0  0.0  0.0  0.0  0.0  0.0 ...   0.0  0.0   \n",
       "system     0.0  0.0  0.0  0.0  0.0  0.0  0.0  0.0  0.0  0.0 ...   0.0  0.0   \n",
       "\n",
       "           94   95   96   97   98   99   100  101  \n",
       "operating  0.0  0.0  0.0  0.0  0.0  0.0  0.0  0.0  \n",
       "system     0.0  0.0  0.0  0.0  0.0  0.0  0.0  0.0  \n",
       "\n",
       "[2 rows x 102 columns]"
      ]
     },
     "execution_count": 12,
     "metadata": {},
     "output_type": "execute_result"
    }
   ],
   "source": [
    "v.d_w.loc[:, q].T"
   ]
  },
  {
   "cell_type": "markdown",
   "metadata": {},
   "source": [
    "The matrix is then summed along each column (corresponding to a document in the corpus), and sorted in descending order. This is then returned to our original data set and used to return the relevant documents to the user."
   ]
  },
  {
   "cell_type": "code",
   "execution_count": 13,
   "metadata": {},
   "outputs": [
    {
     "data": {
      "text/plain": [
       "30    2.593794\n",
       "12    2.593794\n",
       "88    2.593794\n",
       "82    2.000167\n",
       "89    1.187254\n",
       "dtype: float64"
      ]
     },
     "execution_count": 13,
     "metadata": {},
     "output_type": "execute_result"
    }
   ],
   "source": [
    "v.d_w.loc[:, q].T.apply(sum).sort_values(ascending=False)[:5]"
   ]
  },
  {
   "cell_type": "markdown",
   "metadata": {},
   "source": [
    "The \"confidence\" score is obtained by using the $\\mathtt{tf-idf}$ score through the sigmoid function (the s-curve), squishing all values between $[0,1]$ with more extreme values on both ends. As of writing, this is not currently displayed to the user, but could be in the future."
   ]
  },
  {
   "cell_type": "code",
   "execution_count": 14,
   "metadata": {},
   "outputs": [
    {
     "data": {
      "text/html": [
       "<div>\n",
       "<style scoped>\n",
       "    .dataframe tbody tr th:only-of-type {\n",
       "        vertical-align: middle;\n",
       "    }\n",
       "\n",
       "    .dataframe tbody tr th {\n",
       "        vertical-align: top;\n",
       "    }\n",
       "\n",
       "    .dataframe thead th {\n",
       "        text-align: right;\n",
       "    }\n",
       "</style>\n",
       "<table border=\"1\" class=\"dataframe\">\n",
       "  <thead>\n",
       "    <tr style=\"text-align: right;\">\n",
       "      <th></th>\n",
       "      <th>title</th>\n",
       "      <th>body</th>\n",
       "      <th>confidence</th>\n",
       "    </tr>\n",
       "    <tr>\n",
       "      <th>id</th>\n",
       "      <th></th>\n",
       "      <th></th>\n",
       "      <th></th>\n",
       "    </tr>\n",
       "  </thead>\n",
       "  <tbody>\n",
       "    <tr>\n",
       "      <th>30</th>\n",
       "      <td>CSI 4139 Design of Secure Computer Systems (3 ...</td>\n",
       "      <td>Security policies. Security mechanisms. Physic...</td>\n",
       "      <td>0.930461</td>\n",
       "    </tr>\n",
       "    <tr>\n",
       "      <th>12</th>\n",
       "      <td>CSI 3131 Operating Systems (3 units)</td>\n",
       "      <td>Principles of operating systems. Operating sys...</td>\n",
       "      <td>0.930461</td>\n",
       "    </tr>\n",
       "    <tr>\n",
       "      <th>88</th>\n",
       "      <td>CSI 5308 Principles of Distributed Computing (...</td>\n",
       "      <td>Design issues of advanced multiprocessor distr...</td>\n",
       "      <td>0.930461</td>\n",
       "    </tr>\n",
       "    <tr>\n",
       "      <th>82</th>\n",
       "      <td>CSI 5174 Validation Methods for Distributed Sy...</td>\n",
       "      <td>Wireless networks support for m-commerce; m-co...</td>\n",
       "      <td>0.880815</td>\n",
       "    </tr>\n",
       "    <tr>\n",
       "      <th>89</th>\n",
       "      <td>CSI 5311 Distributed Databases and Transaction...</td>\n",
       "      <td>Issues in modeling and verifying quality and v...</td>\n",
       "      <td>0.766250</td>\n",
       "    </tr>\n",
       "    <tr>\n",
       "      <th>55</th>\n",
       "      <td>CSI 5131 Parallel Algorithms and Applications ...</td>\n",
       "      <td>Hardware and software techniques for fault tol...</td>\n",
       "      <td>0.766250</td>\n",
       "    </tr>\n",
       "    <tr>\n",
       "      <th>32</th>\n",
       "      <td>CSI 4141 Real Time Systems Design (3 units)</td>\n",
       "      <td>Definition of real-time systems;  examples.  C...</td>\n",
       "      <td>0.766250</td>\n",
       "    </tr>\n",
       "    <tr>\n",
       "      <th>87</th>\n",
       "      <td>CSI 5200 Projects on Selected Topics (3 units)</td>\n",
       "      <td>Principles involved in the design and implemen...</td>\n",
       "      <td>0.766250</td>\n",
       "    </tr>\n",
       "    <tr>\n",
       "      <th>24</th>\n",
       "      <td>CSI 4124 Foundation of Modelling and Simulatio...</td>\n",
       "      <td>The modelling and simulation process from a pr...</td>\n",
       "      <td>0.766250</td>\n",
       "    </tr>\n",
       "    <tr>\n",
       "      <th>61</th>\n",
       "      <td>CSI 5139 Selected Topics in Computer Applicati...</td>\n",
       "      <td>Selected topics in Computer Systems (Category ...</td>\n",
       "      <td>0.644197</td>\n",
       "    </tr>\n",
       "  </tbody>\n",
       "</table>\n",
       "</div>"
      ],
      "text/plain": [
       "                                                title  \\\n",
       "id                                                      \n",
       "30  CSI 4139 Design of Secure Computer Systems (3 ...   \n",
       "12               CSI 3131 Operating Systems (3 units)   \n",
       "88  CSI 5308 Principles of Distributed Computing (...   \n",
       "82  CSI 5174 Validation Methods for Distributed Sy...   \n",
       "89  CSI 5311 Distributed Databases and Transaction...   \n",
       "55  CSI 5131 Parallel Algorithms and Applications ...   \n",
       "32        CSI 4141 Real Time Systems Design (3 units)   \n",
       "87     CSI 5200 Projects on Selected Topics (3 units)   \n",
       "24  CSI 4124 Foundation of Modelling and Simulatio...   \n",
       "61  CSI 5139 Selected Topics in Computer Applicati...   \n",
       "\n",
       "                                                 body  confidence  \n",
       "id                                                                 \n",
       "30  Security policies. Security mechanisms. Physic...    0.930461  \n",
       "12  Principles of operating systems. Operating sys...    0.930461  \n",
       "88  Design issues of advanced multiprocessor distr...    0.930461  \n",
       "82  Wireless networks support for m-commerce; m-co...    0.880815  \n",
       "89  Issues in modeling and verifying quality and v...    0.766250  \n",
       "55  Hardware and software techniques for fault tol...    0.766250  \n",
       "32  Definition of real-time systems;  examples.  C...    0.766250  \n",
       "87  Principles involved in the design and implemen...    0.766250  \n",
       "24  The modelling and simulation process from a pr...    0.766250  \n",
       "61  Selected topics in Computer Systems (Category ...    0.644197  "
      ]
     },
     "execution_count": 14,
     "metadata": {},
     "output_type": "execute_result"
    }
   ],
   "source": [
    "v.query(\"operating systems\", top_n=10)"
   ]
  },
  {
   "cell_type": "markdown",
   "metadata": {},
   "source": [
    "<hr/>"
   ]
  },
  {
   "cell_type": "markdown",
   "metadata": {},
   "source": [
    "## Modules - Optional"
   ]
  },
  {
   "cell_type": "markdown",
   "metadata": {},
   "source": [
    "### Phrase Query Indexing"
   ]
  },
  {
   "cell_type": "markdown",
   "metadata": {},
   "source": [
    "#### File(s) \n",
    "\n",
    "* `phrase_indexing.py`\n",
    "\n",
    "\n",
    "#### Description\n",
    "\n",
    "This module uses the Jaccard coefficient to identify phrases from a candidate set (identified as hyphenated words), as seen in class.\n",
    "\n",
    "#### Demonstration\n",
    "\n",
    "First, the candidate set is assembled as all hyphenated words in the corpus. "
   ]
  },
  {
   "cell_type": "code",
   "execution_count": 15,
   "metadata": {},
   "outputs": [
    {
     "data": {
      "text/plain": [
       "[('computer', 'based'),\n",
       " ('object', 'oriented'),\n",
       " ('binary', 'trees'),\n",
       " ('object', 'oriented'),\n",
       " ('constraint', 'based')]"
      ]
     },
     "execution_count": 15,
     "metadata": {},
     "output_type": "execute_result"
    }
   ],
   "source": [
    "from phrase_indexing import *\n",
    "\n",
    "candidates = identify_candidates(descriptions)\n",
    "candidates[:5]"
   ]
  },
  {
   "cell_type": "markdown",
   "metadata": {},
   "source": [
    "Then, bigrams of the corpus text are constructed, for calculation of Jaccard coefficients."
   ]
  },
  {
   "cell_type": "code",
   "execution_count": 16,
   "metadata": {},
   "outputs": [
    {
     "name": "stdout",
     "output_type": "stream",
     "text": [
      "{'entity-relationship': 1.0, 'trap-door': 1.0, 'grey-box': 1.0, 'well-separated': 1.0, 'fail-safe': 1.0, 'locality-sensitive': 1.0, 'large-scale': 1.0}\n"
     ]
    }
   ],
   "source": [
    "corpus = [remove_punc(t.lower(), rm_hyphens=True) for t in descriptions]\n",
    "bigrams = make_bigrams(corpus)\n",
    "\n",
    "print(find_phrases(candidates, bigrams, threshold=0.7))"
   ]
  },
  {
   "cell_type": "markdown",
   "metadata": {},
   "source": [
    "Of course, the threshold can be tuned as well."
   ]
  },
  {
   "cell_type": "code",
   "execution_count": 17,
   "metadata": {},
   "outputs": [
    {
     "name": "stdout",
     "output_type": "stream",
     "text": [
      "{'entity-relationship': 1.0, 'trap-door': 1.0, 'lambda-calculus': 0.6666666666666666, 'grey-box': 1.0, 'well-separated': 1.0, 'fail-safe': 1.0, 'locality-sensitive': 1.0, 'large-scale': 1.0, 'fault-tolerance': 0.5555555555555556}\n"
     ]
    }
   ],
   "source": [
    "print(find_phrases(candidates, bigrams, threshold=0.5))"
   ]
  },
  {
   "cell_type": "markdown",
   "metadata": {},
   "source": [
    "These phrases are then stored for later use in preprocessing the corpus and user queries."
   ]
  },
  {
   "cell_type": "markdown",
   "metadata": {},
   "source": [
    "<hr/>"
   ]
  },
  {
   "cell_type": "markdown",
   "metadata": {},
   "source": [
    "### Spelling Correction"
   ]
  },
  {
   "cell_type": "markdown",
   "metadata": {},
   "source": [
    "#### File(s) \n",
    "\n",
    "* `spelling.py`\n",
    "\n",
    "#### Description\n",
    "\n",
    "This module performs spelling corrections on user queries. However, as this is an extra module (working alone, I only have to implement one), I took some liberties with my implementation and elected to use a character-gram model instead of minimum edit distance (mostly out of curiosity).\n",
    "\n",
    "#### Demonstration\n",
    "\n",
    "First, as usual, the query is pre-processed (note: this happens slightly differently for the `BRM`)."
   ]
  },
  {
   "cell_type": "code",
   "execution_count": 18,
   "metadata": {},
   "outputs": [
    {
     "data": {
      "text/plain": [
       "{'data', 'maagement'}"
      ]
     },
     "execution_count": 18,
     "metadata": {},
     "output_type": "execute_result"
    }
   ],
   "source": [
    "from spelling import *\n",
    "\n",
    "q = \"data maagement\"\n",
    "q = clean(q)\n",
    "q"
   ]
  },
  {
   "cell_type": "markdown",
   "metadata": {},
   "source": [
    "Then, for each word in the query, if the word is not in the vocabulary, the spell check is applied. This is performed by computing the ratio of shared character-bigrams between the words. If the word is in the vocabulary, it is simply returned with $100\\%$ confidence.\n",
    "\n",
    "Like minimum edit distance, then, it cannot correct words that are already spelled correctly; it is not context-aware."
   ]
  },
  {
   "cell_type": "code",
   "execution_count": 19,
   "metadata": {},
   "outputs": [
    {
     "name": "stdout",
     "output_type": "stream",
     "text": [
      "data => data (100%)\n",
      "maagement => management (87.5%)\n"
     ]
    }
   ],
   "source": [
    "for w in q:\n",
    "    top_candidate, conf = spell_check(w, b.build_vocab())[0]\n",
    "    print(f\"{w} => {top_candidate} ({conf*100}%)\")"
   ]
  },
  {
   "cell_type": "markdown",
   "metadata": {},
   "source": [
    "As well, the threshold for which candidates are returned can be adjusted from its default value of $0.75$."
   ]
  },
  {
   "cell_type": "code",
   "execution_count": 20,
   "metadata": {},
   "outputs": [
    {
     "name": "stdout",
     "output_type": "stream",
     "text": [
      "[('management', 0.875), ('rearrangement', 0.625)]\n"
     ]
    }
   ],
   "source": [
    "print(spell_check(\"maagement\", b.build_vocab(), threshold=0.5))"
   ]
  },
  {
   "cell_type": "markdown",
   "metadata": {},
   "source": [
    "<hr/>"
   ]
  },
  {
   "cell_type": "markdown",
   "metadata": {},
   "source": [
    "## Demo"
   ]
  },
  {
   "cell_type": "code",
   "execution_count": null,
   "metadata": {},
   "outputs": [],
   "source": []
  },
  {
   "cell_type": "markdown",
   "metadata": {},
   "source": [
    "## Acknowledgements"
   ]
  },
  {
   "cell_type": "code",
   "execution_count": null,
   "metadata": {},
   "outputs": [],
   "source": []
  }
 ],
 "metadata": {
  "kernelspec": {
   "display_name": "Python 3",
   "language": "python",
   "name": "python3"
  },
  "language_info": {
   "codemirror_mode": {
    "name": "ipython",
    "version": 3
   },
   "file_extension": ".py",
   "mimetype": "text/x-python",
   "name": "python",
   "nbconvert_exporter": "python",
   "pygments_lexer": "ipython3",
   "version": "3.6.8"
  }
 },
 "nbformat": 4,
 "nbformat_minor": 2
}
