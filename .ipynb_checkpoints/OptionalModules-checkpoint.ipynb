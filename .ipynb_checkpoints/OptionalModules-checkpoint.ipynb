{
 "cells": [
  {
   "cell_type": "code",
   "execution_count": 1,
   "metadata": {},
   "outputs": [],
   "source": [
    "# from construct_index import *\n",
    "from phrase_indexing import join_phrases, make_bigrams\n",
    "from vsm import VSM\n",
    "from brm import BRM\n",
    "from build_dictionary import clean, remove_punc"
   ]
  },
  {
   "cell_type": "code",
   "execution_count": 2,
   "metadata": {},
   "outputs": [
    {
     "data": {
      "text/html": [
       "<div>\n",
       "<style scoped>\n",
       "    .dataframe tbody tr th:only-of-type {\n",
       "        vertical-align: middle;\n",
       "    }\n",
       "\n",
       "    .dataframe tbody tr th {\n",
       "        vertical-align: top;\n",
       "    }\n",
       "\n",
       "    .dataframe thead th {\n",
       "        text-align: right;\n",
       "    }\n",
       "</style>\n",
       "<table border=\"1\" class=\"dataframe\">\n",
       "  <thead>\n",
       "    <tr style=\"text-align: right;\">\n",
       "      <th></th>\n",
       "      <th>title</th>\n",
       "      <th>body</th>\n",
       "    </tr>\n",
       "    <tr>\n",
       "      <th>id</th>\n",
       "      <th></th>\n",
       "      <th></th>\n",
       "    </tr>\n",
       "  </thead>\n",
       "  <tbody>\n",
       "    <tr>\n",
       "      <th>6</th>\n",
       "      <td>CSI 2132 Databases I (3 units)</td>\n",
       "      <td>Fundamental database concepts. Entity-Relation...</td>\n",
       "    </tr>\n",
       "    <tr>\n",
       "      <th>7</th>\n",
       "      <td>CSI 2372 Advanced Programming Concepts With C+...</td>\n",
       "      <td>Differences between C++ and Java programming. ...</td>\n",
       "    </tr>\n",
       "    <tr>\n",
       "      <th>45</th>\n",
       "      <td>CSI 5116 Authentication and Software Security ...</td>\n",
       "      <td>Topics in formal test derivation methods, test...</td>\n",
       "    </tr>\n",
       "    <tr>\n",
       "      <th>65</th>\n",
       "      <td>CSI 5147 Computer Animation (3 units)</td>\n",
       "      <td>Self-organized, mobile, and hybrid ad hoc netw...</td>\n",
       "    </tr>\n",
       "    <tr>\n",
       "      <th>69</th>\n",
       "      <td>CSI 5152 Evolving Information Networks (3 units)</td>\n",
       "      <td>Data management problems and information techn...</td>\n",
       "    </tr>\n",
       "    <tr>\n",
       "      <th>72</th>\n",
       "      <td>CSI 5155 Machine Learning (3 units)</td>\n",
       "      <td>Distributed simulation principles and practice...</td>\n",
       "    </tr>\n",
       "  </tbody>\n",
       "</table>\n",
       "</div>"
      ],
      "text/plain": [
       "                                                title  \\\n",
       "id                                                      \n",
       "6                      CSI 2132 Databases I (3 units)   \n",
       "7   CSI 2372 Advanced Programming Concepts With C+...   \n",
       "45  CSI 5116 Authentication and Software Security ...   \n",
       "65              CSI 5147 Computer Animation (3 units)   \n",
       "69   CSI 5152 Evolving Information Networks (3 units)   \n",
       "72                CSI 5155 Machine Learning (3 units)   \n",
       "\n",
       "                                                 body  \n",
       "id                                                     \n",
       "6   Fundamental database concepts. Entity-Relation...  \n",
       "7   Differences between C++ and Java programming. ...  \n",
       "45  Topics in formal test derivation methods, test...  \n",
       "65  Self-organized, mobile, and hybrid ad hoc netw...  \n",
       "69  Data management problems and information techn...  \n",
       "72  Distributed simulation principles and practice...  "
      ]
     },
     "execution_count": 2,
     "metadata": {},
     "output_type": "execute_result"
    }
   ],
   "source": [
    "# m = VSM()\n",
    "m = BRM()\n",
    "q = \"entity-relationship OR (Data AND management)\" # data management Systems\"\n",
    "m.query(q)"
   ]
  },
  {
   "cell_type": "code",
   "execution_count": 5,
   "metadata": {},
   "outputs": [
    {
     "name": "stdout",
     "output_type": "stream",
     "text": [
      "entityrelationship OR (data AND manaement)\n"
     ]
    },
    {
     "data": {
      "text/plain": [
       "'entityrelationship OR (data AND management)'"
      ]
     },
     "execution_count": 5,
     "metadata": {},
     "output_type": "execute_result"
    }
   ],
   "source": [
    "# from spelling import spell_check\n",
    "\n",
    "q = \"entity-relationship OR (Data AND manaement)\"\n",
    "m.check_spelling(q)"
   ]
  },
  {
   "cell_type": "code",
   "execution_count": null,
   "metadata": {},
   "outputs": [],
   "source": []
  },
  {
   "cell_type": "code",
   "execution_count": null,
   "metadata": {},
   "outputs": [],
   "source": []
  }
 ],
 "metadata": {
  "kernelspec": {
   "display_name": "Python 3",
   "language": "python",
   "name": "python3"
  },
  "language_info": {
   "codemirror_mode": {
    "name": "ipython",
    "version": 3
   },
   "file_extension": ".py",
   "mimetype": "text/x-python",
   "name": "python",
   "nbconvert_exporter": "python",
   "pygments_lexer": "ipython3",
   "version": "3.6.8"
  }
 },
 "nbformat": 4,
 "nbformat_minor": 2
}
