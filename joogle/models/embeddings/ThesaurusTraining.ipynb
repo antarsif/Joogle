{
 "cells": [
  {
   "cell_type": "code",
   "execution_count": 52,
   "metadata": {},
   "outputs": [],
   "source": [
    "%load_ext autoreload\n",
    "%autoreload 2"
   ]
  },
  {
   "cell_type": "code",
   "execution_count": 79,
   "metadata": {},
   "outputs": [],
   "source": [
    "from embeddings import *\n",
    "from vocab import *\n",
    "\n",
    "import pandas as pd\n",
    "from sklearn.feature_extraction.text import CountVectorizer"
   ]
  },
  {
   "cell_type": "code",
   "execution_count": 2,
   "metadata": {},
   "outputs": [
    {
     "name": "stdout",
     "output_type": "stream",
     "text": [
      "(21578, 9)\n"
     ]
    },
    {
     "data": {
      "text/html": [
       "<div>\n",
       "<style scoped>\n",
       "    .dataframe tbody tr th:only-of-type {\n",
       "        vertical-align: middle;\n",
       "    }\n",
       "\n",
       "    .dataframe tbody tr th {\n",
       "        vertical-align: top;\n",
       "    }\n",
       "\n",
       "    .dataframe thead th {\n",
       "        text-align: right;\n",
       "    }\n",
       "</style>\n",
       "<table border=\"1\" class=\"dataframe\">\n",
       "  <thead>\n",
       "    <tr style=\"text-align: right;\">\n",
       "      <th></th>\n",
       "      <th>title</th>\n",
       "      <th>body</th>\n",
       "      <th>topics</th>\n",
       "      <th>places</th>\n",
       "      <th>people</th>\n",
       "      <th>orgs</th>\n",
       "      <th>exchanges</th>\n",
       "      <th>companies</th>\n",
       "      <th>date</th>\n",
       "    </tr>\n",
       "  </thead>\n",
       "  <tbody>\n",
       "    <tr>\n",
       "      <th>0</th>\n",
       "      <td>VALERO ENERGY &lt;VLO&gt; DEBT UPGRADED BY MOODY'S</td>\n",
       "      <td>Moody's Investors Service Inc said it\\nupgrade...</td>\n",
       "      <td>[]</td>\n",
       "      <td>[usa]</td>\n",
       "      <td>[]</td>\n",
       "      <td>[]</td>\n",
       "      <td>[]</td>\n",
       "      <td>[]</td>\n",
       "      <td>17-MAR-1987 10:59:37.95</td>\n",
       "    </tr>\n",
       "    <tr>\n",
       "      <th>1</th>\n",
       "      <td>NL &lt;NL&gt; FILES SUITS AGAINST UNITED CATALYSTS</td>\n",
       "      <td>NL Industries Inc's NL\\nChemicals Inc subsidia...</td>\n",
       "      <td>[]</td>\n",
       "      <td>[usa]</td>\n",
       "      <td>[]</td>\n",
       "      <td>[]</td>\n",
       "      <td>[]</td>\n",
       "      <td>[]</td>\n",
       "      <td>17-MAR-1987 11:01:59.32</td>\n",
       "    </tr>\n",
       "    <tr>\n",
       "      <th>2</th>\n",
       "      <td>IRVING TRUST &lt;V&gt; BUYS GULF/WESTERN &lt;GW&gt; UNIT</td>\n",
       "      <td>Irving Bank Corp said it bought the\\nfactoring...</td>\n",
       "      <td>[acq]</td>\n",
       "      <td>[usa]</td>\n",
       "      <td>[]</td>\n",
       "      <td>[]</td>\n",
       "      <td>[]</td>\n",
       "      <td>[]</td>\n",
       "      <td>17-MAR-1987 11:02:40.56</td>\n",
       "    </tr>\n",
       "    <tr>\n",
       "      <th>3</th>\n",
       "      <td>DITTLER BROTHERS SEEK LOTTERY INVESTIGATIONS</td>\n",
       "      <td>Dittler Brothers called for\\ninvestigations by...</td>\n",
       "      <td>[]</td>\n",
       "      <td>[usa]</td>\n",
       "      <td>[]</td>\n",
       "      <td>[]</td>\n",
       "      <td>[]</td>\n",
       "      <td>[]</td>\n",
       "      <td>17-MAR-1987 11:03:32.29</td>\n",
       "    </tr>\n",
       "    <tr>\n",
       "      <th>4</th>\n",
       "      <td>AMRE INC &lt;AMRE&gt; 3RD QTR JAN 31 NET</td>\n",
       "      <td>Shr five cts vs one ct\\n    Net 196,986 vs 37,...</td>\n",
       "      <td>[earn]</td>\n",
       "      <td>[usa]</td>\n",
       "      <td>[]</td>\n",
       "      <td>[]</td>\n",
       "      <td>[]</td>\n",
       "      <td>[]</td>\n",
       "      <td>17-MAR-1987 11:07:22.82</td>\n",
       "    </tr>\n",
       "  </tbody>\n",
       "</table>\n",
       "</div>"
      ],
      "text/plain": [
       "                                          title  \\\n",
       "0  VALERO ENERGY <VLO> DEBT UPGRADED BY MOODY'S   \n",
       "1  NL <NL> FILES SUITS AGAINST UNITED CATALYSTS   \n",
       "2  IRVING TRUST <V> BUYS GULF/WESTERN <GW> UNIT   \n",
       "3  DITTLER BROTHERS SEEK LOTTERY INVESTIGATIONS   \n",
       "4            AMRE INC <AMRE> 3RD QTR JAN 31 NET   \n",
       "\n",
       "                                                body  topics places people  \\\n",
       "0  Moody's Investors Service Inc said it\\nupgrade...      []  [usa]     []   \n",
       "1  NL Industries Inc's NL\\nChemicals Inc subsidia...      []  [usa]     []   \n",
       "2  Irving Bank Corp said it bought the\\nfactoring...   [acq]  [usa]     []   \n",
       "3  Dittler Brothers called for\\ninvestigations by...      []  [usa]     []   \n",
       "4  Shr five cts vs one ct\\n    Net 196,986 vs 37,...  [earn]  [usa]     []   \n",
       "\n",
       "  orgs exchanges companies                     date  \n",
       "0   []        []        []  17-MAR-1987 10:59:37.95  \n",
       "1   []        []        []  17-MAR-1987 11:01:59.32  \n",
       "2   []        []        []  17-MAR-1987 11:02:40.56  \n",
       "3   []        []        []  17-MAR-1987 11:03:32.29  \n",
       "4   []        []        []  17-MAR-1987 11:07:22.82  "
      ]
     },
     "execution_count": 2,
     "metadata": {},
     "output_type": "execute_result"
    }
   ],
   "source": [
    "df = pd.read_pickle(\"../../../data/reuters/alldata.pkl\")\n",
    "print(df.shape)\n",
    "df.head()"
   ]
  },
  {
   "cell_type": "code",
   "execution_count": 68,
   "metadata": {},
   "outputs": [],
   "source": [
    "from nltk.util import ngrams as _ngrams\n",
    "from nltk import word_tokenize\n",
    "\n",
    "def word_tok(x):\n",
    "        return word_tokenize(x.lower())\n",
    "\n",
    "def ngrams(x, n=3):\n",
    "        return _ngrams(x, n, pad_left=True, pad_right=True, left_pad_symbol='<s>', right_pad_symbol='</s>')\n",
    "\n",
    "def get_ngrams(col, n=3, struct=iter):\n",
    "    from itertools import chain\n",
    "    return struct(chain(*col.apply(ngrams)))"
   ]
  },
  {
   "cell_type": "code",
   "execution_count": 69,
   "metadata": {},
   "outputs": [
    {
     "data": {
      "text/plain": [
       "2938411"
      ]
     },
     "execution_count": 69,
     "metadata": {},
     "output_type": "execute_result"
    }
   ],
   "source": [
    "tris = list(get_ngrams(df.body.apply(word_tok)))\n",
    "len(tris)"
   ]
  },
  {
   "cell_type": "code",
   "execution_count": 71,
   "metadata": {},
   "outputs": [],
   "source": [
    "word_toked = df.body.apply(word_tok)"
   ]
  },
  {
   "cell_type": "code",
   "execution_count": 81,
   "metadata": {},
   "outputs": [
    {
     "data": {
      "text/plain": [
       "76083"
      ]
     },
     "execution_count": 81,
     "metadata": {},
     "output_type": "execute_result"
    }
   ],
   "source": [
    "vocab = Vocab(word_toked)\n",
    "len(vocab)"
   ]
  },
  {
   "cell_type": "code",
   "execution_count": 82,
   "metadata": {},
   "outputs": [
    {
     "data": {
      "text/plain": [
       "[('<s>', '<s>', 'moody'),\n",
       " ('<s>', 'moody', \"'s\"),\n",
       " ('moody', \"'s\", 'investors'),\n",
       " (\"'s\", 'investors', 'service'),\n",
       " ('investors', 'service', 'inc')]"
      ]
     },
     "execution_count": 82,
     "metadata": {},
     "output_type": "execute_result"
    }
   ],
   "source": [
    "vocab.ngrams[:5]"
   ]
  },
  {
   "cell_type": "code",
   "execution_count": null,
   "metadata": {},
   "outputs": [
    {
     "name": "stderr",
     "output_type": "stream",
     "text": [
      "2019-04-12 11:24:47.423 | INFO     | embeddings:train:41 - Begin training\n"
     ]
    },
    {
     "data": {
      "application/vnd.jupyter.widget-view+json": {
       "model_id": "fc6e52a80ed54ad68c5511facd5ce219",
       "version_major": 2,
       "version_minor": 0
      },
      "text/html": [
       "<p>Failed to display Jupyter Widget of type <code>HBox</code>.</p>\n",
       "<p>\n",
       "  If you're reading this message in the Jupyter Notebook or JupyterLab Notebook, it may mean\n",
       "  that the widgets JavaScript is still loading. If this message persists, it\n",
       "  likely means that the widgets JavaScript library is either not installed or\n",
       "  not enabled. See the <a href=\"https://ipywidgets.readthedocs.io/en/stable/user_install.html\">Jupyter\n",
       "  Widgets Documentation</a> for setup instructions.\n",
       "</p>\n",
       "<p>\n",
       "  If you're reading this message in another frontend (for example, a static\n",
       "  rendering on GitHub or <a href=\"https://nbviewer.jupyter.org/\">NBViewer</a>),\n",
       "  it may mean that your frontend doesn't currently support widgets.\n",
       "</p>\n"
      ],
      "text/plain": [
       "HBox(children=(IntProgress(value=0, max=2938411), HTML(value='')))"
      ]
     },
     "metadata": {},
     "output_type": "display_data"
    }
   ],
   "source": [
    "model = NGramLanguageModeler(vocab, 100, 2)\n",
    "model.train()"
   ]
  },
  {
   "cell_type": "code",
   "execution_count": null,
   "metadata": {},
   "outputs": [],
   "source": []
  }
 ],
 "metadata": {
  "kernelspec": {
   "display_name": "Python 3",
   "language": "python",
   "name": "python3"
  },
  "language_info": {
   "codemirror_mode": {
    "name": "ipython",
    "version": 3
   },
   "file_extension": ".py",
   "mimetype": "text/x-python",
   "name": "python",
   "nbconvert_exporter": "python",
   "pygments_lexer": "ipython3",
   "version": "3.6.8"
  }
 },
 "nbformat": 4,
 "nbformat_minor": 2
}
