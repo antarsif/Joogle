{
 "cells": [
  {
   "cell_type": "code",
   "execution_count": 1,
   "metadata": {},
   "outputs": [],
   "source": [
    "%load_ext autoreload\n",
    "%autoreload 1"
   ]
  },
  {
   "cell_type": "code",
   "execution_count": 2,
   "metadata": {},
   "outputs": [],
   "source": [
    "from vsm import *\n",
    "v = VSM()\n",
    "q = \"computers graphical\""
   ]
  },
  {
   "cell_type": "code",
   "execution_count": 3,
   "metadata": {},
   "outputs": [
    {
     "data": {
      "text/plain": [
       "'graphic'"
      ]
     },
     "execution_count": 3,
     "metadata": {},
     "output_type": "execute_result"
    }
   ],
   "source": [
    "v.check_spelling(\"graphics\")"
   ]
  },
  {
   "cell_type": "markdown",
   "metadata": {},
   "source": [
    "$$P(w_i=\\textrm{graphic}|gra) = \\frac{P(gra \\cap w_i=\\textrm{graphic})}{P(gra)}$$"
   ]
  },
  {
   "cell_type": "markdown",
   "metadata": {},
   "source": [
    "$$P(w_i=\\textrm{graphic}|gra) = \\frac{P(gra | w_i=\\textrm{graphic})\\cdot P(w_i=\\textrm{graphic})}{P(gra)}$$"
   ]
  },
  {
   "cell_type": "code",
   "execution_count": 4,
   "metadata": {
    "scrolled": true
   },
   "outputs": [
    {
     "data": {
      "text/plain": [
       "['gra', 'rap', 'aph', 'phi', 'hic']"
      ]
     },
     "execution_count": 4,
     "metadata": {},
     "output_type": "execute_result"
    }
   ],
   "source": [
    "from spelling import char_ngram, spell_check\n",
    "\n",
    "vocab = v.build_vocab()\n",
    "vocab[\"graphic\"]"
   ]
  },
  {
   "cell_type": "code",
   "execution_count": 5,
   "metadata": {},
   "outputs": [
    {
     "data": {
      "text/plain": [
       "[('graphic', 0.8571428571428571),\n",
       " ('geographic', 0.6),\n",
       " ('graph', 0.5714285714285714),\n",
       " ('cryptographic', 0.46153846153846156),\n",
       " ('cryptographical', 0.4),\n",
       " ('cryptography', 0.2857142857142857),\n",
       " ('steganography', 0.26666666666666666)]"
      ]
     },
     "execution_count": 5,
     "metadata": {},
     "output_type": "execute_result"
    }
   ],
   "source": [
    "spell_check(\"graphics\", v.build_vocab())"
   ]
  },
  {
   "cell_type": "code",
   "execution_count": null,
   "metadata": {},
   "outputs": [],
   "source": []
  },
  {
   "cell_type": "code",
   "execution_count": null,
   "metadata": {},
   "outputs": [],
   "source": []
  },
  {
   "cell_type": "code",
   "execution_count": null,
   "metadata": {},
   "outputs": [],
   "source": []
  },
  {
   "cell_type": "code",
   "execution_count": null,
   "metadata": {},
   "outputs": [],
   "source": []
  },
  {
   "cell_type": "code",
   "execution_count": null,
   "metadata": {},
   "outputs": [],
   "source": []
  },
  {
   "cell_type": "code",
   "execution_count": null,
   "metadata": {},
   "outputs": [],
   "source": []
  },
  {
   "cell_type": "code",
   "execution_count": null,
   "metadata": {},
   "outputs": [],
   "source": []
  },
  {
   "cell_type": "code",
   "execution_count": null,
   "metadata": {},
   "outputs": [],
   "source": []
  },
  {
   "cell_type": "code",
   "execution_count": 6,
   "metadata": {},
   "outputs": [
    {
     "data": {
      "text/plain": [
       "[('graphic', 0.8571428571428571),\n",
       " ('geographic', 0.6),\n",
       " ('graph', 0.5714285714285714),\n",
       " ('cryptographic', 0.46153846153846156),\n",
       " ('cryptographical', 0.4),\n",
       " ('cryptography', 0.2857142857142857),\n",
       " ('steganography', 0.26666666666666666)]"
      ]
     },
     "execution_count": 6,
     "metadata": {},
     "output_type": "execute_result"
    }
   ],
   "source": [
    "spell_check(\"graphics\", v.build_vocab())"
   ]
  },
  {
   "cell_type": "code",
   "execution_count": 7,
   "metadata": {},
   "outputs": [
    {
     "data": {
      "text/plain": [
       "[('management', 0.7),\n",
       " ('agent', 0.5),\n",
       " ('element', 0.4),\n",
       " ('rearrangement', 0.3333333333333333),\n",
       " ('image', 0.3333333333333333),\n",
       " ('measurement', 0.3076923076923077),\n",
       " ('requirement', 0.3076923076923077),\n",
       " ('enhancement', 0.3076923076923077),\n",
       " ('mental', 0.3),\n",
       " ('sentiment', 0.2727272727272727),\n",
       " ('payment', 0.2727272727272727),\n",
       " ('message', 0.2727272727272727)]"
      ]
     },
     "execution_count": 7,
     "metadata": {},
     "output_type": "execute_result"
    }
   ],
   "source": [
    "spell_check(\"maagement\", v.build_vocab())"
   ]
  },
  {
   "cell_type": "markdown",
   "metadata": {},
   "source": [
    "$$P(la|w_i=\\textrm{language}) = \\frac{P(la)\\cap P(w_i=\\textrm{language})}{P(w_i=\\textrm{language})}$$\n",
    "\n",
    "$$P(la|w_i=\\textrm{language}) = \\frac{P(w_i=\\textrm{language}| la) \\cdot P(la)}{P(w_i=\\textrm{language})}$$"
   ]
  },
  {
   "cell_type": "code",
   "execution_count": null,
   "metadata": {},
   "outputs": [],
   "source": []
  },
  {
   "cell_type": "code",
   "execution_count": null,
   "metadata": {},
   "outputs": [],
   "source": []
  }
 ],
 "metadata": {
  "kernelspec": {
   "display_name": "Python 3",
   "language": "python",
   "name": "python3"
  },
  "language_info": {
   "codemirror_mode": {
    "name": "ipython",
    "version": 3
   },
   "file_extension": ".py",
   "mimetype": "text/x-python",
   "name": "python",
   "nbconvert_exporter": "python",
   "pygments_lexer": "ipython3",
   "version": "3.6.8"
  }
 },
 "nbformat": 4,
 "nbformat_minor": 2
}
