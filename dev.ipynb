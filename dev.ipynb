{
 "cells": [
  {
   "cell_type": "code",
   "execution_count": 27,
   "metadata": {},
   "outputs": [],
   "source": [
    "%load_ext autoreload\n",
    "%autoreload 2"
   ]
  },
  {
   "cell_type": "code",
   "execution_count": 1,
   "metadata": {},
   "outputs": [
    {
     "name": "stderr",
     "output_type": "stream",
     "text": [
      "/home/jacobgdt/.local/lib/python3.6/site-packages/bs4/__init__.py:181: UserWarning: No parser was explicitly specified, so I'm using the best available HTML parser for this system (\"lxml\"). This usually isn't a problem, but if you run this code on another system, or in a different virtual environment, it may use a different parser and behave differently.\n",
      "\n",
      "The code that caused this warning is on line 193 of the file /home/jacobgdt/anaconda3/envs/cling/lib/python3.6/runpy.py. To get rid of this warning, change code that looks like this:\n",
      "\n",
      " BeautifulSoup([your markup])\n",
      "\n",
      "to this:\n",
      "\n",
      " BeautifulSoup([your markup], \"lxml\")\n",
      "\n",
      "  markup_type=markup_type))\n"
     ]
    }
   ],
   "source": [
    "from joogle import *\n",
    "\n",
    "from bs4 import BeautifulSoup\n",
    "from bs4.element import NavigableString, Tag\n",
    "\n",
    "with open('data/reuters/reut2-001.sgm') as f:\n",
    "    soup = BeautifulSoup(f.read(), \"lxml\")"
   ]
  },
  {
   "cell_type": "code",
   "execution_count": 6,
   "metadata": {},
   "outputs": [
    {
     "name": "stdout",
     "output_type": "stream",
     "text": [
      "all-exchanges-strings.lc.txt\t    README.txt\t   reut2-007.sgm  reut2-015.sgm\r\n",
      "all-orgs-strings.lc.txt\t\t    reut2-000.sgm  reut2-008.sgm  reut2-016.sgm\r\n",
      "all-people-strings.lc.txt\t    reut2-001.sgm  reut2-009.sgm  reut2-017.sgm\r\n",
      "all-places-strings.lc.txt\t    reut2-002.sgm  reut2-010.sgm  reut2-018.sgm\r\n",
      "all-topics-strings.lc.txt\t    reut2-003.sgm  reut2-011.sgm  reut2-019.sgm\r\n",
      "cat-descriptions_120396.txt\t    reut2-004.sgm  reut2-012.sgm  reut2-020.sgm\r\n",
      "feldman-cia-worldfactbook-data.txt  reut2-005.sgm  reut2-013.sgm  reut2-021.sgm\r\n",
      "lewis.dtd\t\t\t    reut2-006.sgm  reut2-014.sgm  test01.json\r\n"
     ]
    }
   ],
   "source": [
    "!ls data/reuters"
   ]
  },
  {
   "cell_type": "code",
   "execution_count": 20,
   "metadata": {},
   "outputs": [],
   "source": [
    "from tqdm import tqdm_notebook as tqdm\n",
    "\n",
    "METADATA_FIELDS = [\"topics\", \"places\", \"people\", \"orgs\", \"exchanges\", \"companies\"]\n",
    "\n",
    "def parse_metadata_field(soup, field):\n",
    "    return [f.text for f in soup.find(field).findAll(\"d\")]\n",
    "\n",
    "def parse_doc(soup):\n",
    "    metadata = {f: parse_metadata_field(soup, f) for f in METADATA_FIELDS}\n",
    "    metadata['date'] = soup.find(\"date\").text\n",
    "    \n",
    "    title = soup.find(\"title\")\n",
    "    if title:\n",
    "        title = title.text\n",
    "    \n",
    "    text = \"\"\n",
    "    for c in soup.find(\"text\").children:\n",
    "        if isinstance(c, NavigableString) and c != \"\\n\":\n",
    "            text += c\n",
    "    \n",
    "    return title, text, (*metadata.values())\n",
    "\n",
    "def combine_docs():\n",
    "    from glob import glob\n",
    "    \n",
    "    docs = []\n",
    "    for fp in tqdm(glob('data/reuters/*.sgm')):\n",
    "        print(fp)\n",
    "        with open(fp, encoding='latin-1') as f:\n",
    "            soup = BeautifulSoup(f.read(), \"lxml\")\n",
    "            docs.extend(map(parse_doc, soup.findAll(\"reuters\")))\n",
    "    cols=[\"title\", \"body\", *METADATA_FIELDS, \"date\"]\n",
    "    return pd.DataFrame(docs, columns=cols)"
   ]
  },
  {
   "cell_type": "code",
   "execution_count": 21,
   "metadata": {},
   "outputs": [
    {
     "data": {
      "application/vnd.jupyter.widget-view+json": {
       "model_id": "12883dd2997b4167a48740a222b2fcfb",
       "version_major": 2,
       "version_minor": 0
      },
      "text/html": [
       "<p>Failed to display Jupyter Widget of type <code>HBox</code>.</p>\n",
       "<p>\n",
       "  If you're reading this message in the Jupyter Notebook or JupyterLab Notebook, it may mean\n",
       "  that the widgets JavaScript is still loading. If this message persists, it\n",
       "  likely means that the widgets JavaScript library is either not installed or\n",
       "  not enabled. See the <a href=\"https://ipywidgets.readthedocs.io/en/stable/user_install.html\">Jupyter\n",
       "  Widgets Documentation</a> for setup instructions.\n",
       "</p>\n",
       "<p>\n",
       "  If you're reading this message in another frontend (for example, a static\n",
       "  rendering on GitHub or <a href=\"https://nbviewer.jupyter.org/\">NBViewer</a>),\n",
       "  it may mean that your frontend doesn't currently support widgets.\n",
       "</p>\n"
      ],
      "text/plain": [
       "HBox(children=(IntProgress(value=0, max=22), HTML(value='')))"
      ]
     },
     "metadata": {},
     "output_type": "display_data"
    },
    {
     "name": "stdout",
     "output_type": "stream",
     "text": [
      "data/reuters/reut2-006.sgm\n",
      "data/reuters/reut2-000.sgm\n",
      "data/reuters/reut2-012.sgm\n",
      "data/reuters/reut2-005.sgm\n",
      "data/reuters/reut2-004.sgm\n",
      "data/reuters/reut2-017.sgm\n",
      "data/reuters/reut2-021.sgm\n",
      "data/reuters/reut2-014.sgm\n",
      "data/reuters/reut2-013.sgm\n",
      "data/reuters/reut2-015.sgm\n",
      "data/reuters/reut2-001.sgm\n",
      "data/reuters/reut2-007.sgm\n",
      "data/reuters/reut2-016.sgm\n",
      "data/reuters/reut2-019.sgm\n",
      "data/reuters/reut2-009.sgm\n",
      "data/reuters/reut2-003.sgm\n",
      "data/reuters/reut2-010.sgm\n",
      "data/reuters/reut2-018.sgm\n",
      "data/reuters/reut2-020.sgm\n",
      "data/reuters/reut2-011.sgm\n",
      "data/reuters/reut2-002.sgm\n",
      "data/reuters/reut2-008.sgm\n",
      "\n",
      "(21578, 9)\n"
     ]
    },
    {
     "data": {
      "text/html": [
       "<div>\n",
       "<style scoped>\n",
       "    .dataframe tbody tr th:only-of-type {\n",
       "        vertical-align: middle;\n",
       "    }\n",
       "\n",
       "    .dataframe tbody tr th {\n",
       "        vertical-align: top;\n",
       "    }\n",
       "\n",
       "    .dataframe thead th {\n",
       "        text-align: right;\n",
       "    }\n",
       "</style>\n",
       "<table border=\"1\" class=\"dataframe\">\n",
       "  <thead>\n",
       "    <tr style=\"text-align: right;\">\n",
       "      <th></th>\n",
       "      <th>title</th>\n",
       "      <th>body</th>\n",
       "      <th>topics</th>\n",
       "      <th>places</th>\n",
       "      <th>people</th>\n",
       "      <th>orgs</th>\n",
       "      <th>exchanges</th>\n",
       "      <th>companies</th>\n",
       "      <th>date</th>\n",
       "    </tr>\n",
       "  </thead>\n",
       "  <tbody>\n",
       "    <tr>\n",
       "      <th>0</th>\n",
       "      <td>VALERO ENERGY &lt;VLO&gt; DEBT UPGRADED BY MOODY'S</td>\n",
       "      <td>Moody's Investors Service Inc said it\\nupgrade...</td>\n",
       "      <td>[]</td>\n",
       "      <td>[usa]</td>\n",
       "      <td>[]</td>\n",
       "      <td>[]</td>\n",
       "      <td>[]</td>\n",
       "      <td>[]</td>\n",
       "      <td>17-MAR-1987 10:59:37.95</td>\n",
       "    </tr>\n",
       "    <tr>\n",
       "      <th>1</th>\n",
       "      <td>NL &lt;NL&gt; FILES SUITS AGAINST UNITED CATALYSTS</td>\n",
       "      <td>NL Industries Inc's NL\\nChemicals Inc subsidia...</td>\n",
       "      <td>[]</td>\n",
       "      <td>[usa]</td>\n",
       "      <td>[]</td>\n",
       "      <td>[]</td>\n",
       "      <td>[]</td>\n",
       "      <td>[]</td>\n",
       "      <td>17-MAR-1987 11:01:59.32</td>\n",
       "    </tr>\n",
       "    <tr>\n",
       "      <th>2</th>\n",
       "      <td>IRVING TRUST &lt;V&gt; BUYS GULF/WESTERN &lt;GW&gt; UNIT</td>\n",
       "      <td>Irving Bank Corp said it bought the\\nfactoring...</td>\n",
       "      <td>[acq]</td>\n",
       "      <td>[usa]</td>\n",
       "      <td>[]</td>\n",
       "      <td>[]</td>\n",
       "      <td>[]</td>\n",
       "      <td>[]</td>\n",
       "      <td>17-MAR-1987 11:02:40.56</td>\n",
       "    </tr>\n",
       "    <tr>\n",
       "      <th>3</th>\n",
       "      <td>DITTLER BROTHERS SEEK LOTTERY INVESTIGATIONS</td>\n",
       "      <td>Dittler Brothers called for\\ninvestigations by...</td>\n",
       "      <td>[]</td>\n",
       "      <td>[usa]</td>\n",
       "      <td>[]</td>\n",
       "      <td>[]</td>\n",
       "      <td>[]</td>\n",
       "      <td>[]</td>\n",
       "      <td>17-MAR-1987 11:03:32.29</td>\n",
       "    </tr>\n",
       "    <tr>\n",
       "      <th>4</th>\n",
       "      <td>AMRE INC &lt;AMRE&gt; 3RD QTR JAN 31 NET</td>\n",
       "      <td>Shr five cts vs one ct\\n    Net 196,986 vs 37,...</td>\n",
       "      <td>[earn]</td>\n",
       "      <td>[usa]</td>\n",
       "      <td>[]</td>\n",
       "      <td>[]</td>\n",
       "      <td>[]</td>\n",
       "      <td>[]</td>\n",
       "      <td>17-MAR-1987 11:07:22.82</td>\n",
       "    </tr>\n",
       "  </tbody>\n",
       "</table>\n",
       "</div>"
      ],
      "text/plain": [
       "                                          title  \\\n",
       "0  VALERO ENERGY <VLO> DEBT UPGRADED BY MOODY'S   \n",
       "1  NL <NL> FILES SUITS AGAINST UNITED CATALYSTS   \n",
       "2  IRVING TRUST <V> BUYS GULF/WESTERN <GW> UNIT   \n",
       "3  DITTLER BROTHERS SEEK LOTTERY INVESTIGATIONS   \n",
       "4            AMRE INC <AMRE> 3RD QTR JAN 31 NET   \n",
       "\n",
       "                                                body  topics places people  \\\n",
       "0  Moody's Investors Service Inc said it\\nupgrade...      []  [usa]     []   \n",
       "1  NL Industries Inc's NL\\nChemicals Inc subsidia...      []  [usa]     []   \n",
       "2  Irving Bank Corp said it bought the\\nfactoring...   [acq]  [usa]     []   \n",
       "3  Dittler Brothers called for\\ninvestigations by...      []  [usa]     []   \n",
       "4  Shr five cts vs one ct\\n    Net 196,986 vs 37,...  [earn]  [usa]     []   \n",
       "\n",
       "  orgs exchanges companies                     date  \n",
       "0   []        []        []  17-MAR-1987 10:59:37.95  \n",
       "1   []        []        []  17-MAR-1987 11:01:59.32  \n",
       "2   []        []        []  17-MAR-1987 11:02:40.56  \n",
       "3   []        []        []  17-MAR-1987 11:03:32.29  \n",
       "4   []        []        []  17-MAR-1987 11:07:22.82  "
      ]
     },
     "execution_count": 21,
     "metadata": {},
     "output_type": "execute_result"
    }
   ],
   "source": [
    "df = combine_docs()\n",
    "print(df.shape)\n",
    "df.head()"
   ]
  },
  {
   "cell_type": "code",
   "execution_count": 26,
   "metadata": {},
   "outputs": [],
   "source": [
    "df.to_pickle(\"data/reuters/alldata.pkl\")"
   ]
  },
  {
   "cell_type": "code",
   "execution_count": 3,
   "metadata": {},
   "outputs": [
    {
     "name": "stdout",
     "output_type": "stream",
     "text": [
      "(1000, 9)\n"
     ]
    },
    {
     "data": {
      "text/html": [
       "<div>\n",
       "<style scoped>\n",
       "    .dataframe tbody tr th:only-of-type {\n",
       "        vertical-align: middle;\n",
       "    }\n",
       "\n",
       "    .dataframe tbody tr th {\n",
       "        vertical-align: top;\n",
       "    }\n",
       "\n",
       "    .dataframe thead th {\n",
       "        text-align: right;\n",
       "    }\n",
       "</style>\n",
       "<table border=\"1\" class=\"dataframe\">\n",
       "  <thead>\n",
       "    <tr style=\"text-align: right;\">\n",
       "      <th></th>\n",
       "      <th>title</th>\n",
       "      <th>body</th>\n",
       "      <th>topics</th>\n",
       "      <th>places</th>\n",
       "      <th>people</th>\n",
       "      <th>orgs</th>\n",
       "      <th>exchanges</th>\n",
       "      <th>companies</th>\n",
       "      <th>date</th>\n",
       "    </tr>\n",
       "  </thead>\n",
       "  <tbody>\n",
       "    <tr>\n",
       "      <th>0</th>\n",
       "      <td>SANDOZ PLANS WEEDKILLER JOINT VENTURE IN USSR</td>\n",
       "      <td>Sandoz AG said it planned a joint venture\\nto ...</td>\n",
       "      <td>[]</td>\n",
       "      <td>[usa, ussr]</td>\n",
       "      <td>[]</td>\n",
       "      <td>[]</td>\n",
       "      <td>[]</td>\n",
       "      <td>[]</td>\n",
       "      <td>3-MAR-1987 09:18:21.26</td>\n",
       "    </tr>\n",
       "    <tr>\n",
       "      <th>1</th>\n",
       "      <td>TAIWAN REJECTS TEXTILE MAKERS EXCHANGE RATE PLEA</td>\n",
       "      <td>Central bank governor Chang Chi-cheng\\nrejecte...</td>\n",
       "      <td>[]</td>\n",
       "      <td>[usa, taiwan]</td>\n",
       "      <td>[]</td>\n",
       "      <td>[]</td>\n",
       "      <td>[]</td>\n",
       "      <td>[]</td>\n",
       "      <td>3-MAR-1987 09:19:31.96</td>\n",
       "    </tr>\n",
       "    <tr>\n",
       "      <th>2</th>\n",
       "      <td>NATIONAL FSI INC &lt;NFSI&gt; 4TH QTR LOSS</td>\n",
       "      <td>Shr loss six cts vs profit 19 cts\\n    Net los...</td>\n",
       "      <td>[earn]</td>\n",
       "      <td>[usa]</td>\n",
       "      <td>[]</td>\n",
       "      <td>[]</td>\n",
       "      <td>[]</td>\n",
       "      <td>[]</td>\n",
       "      <td>3-MAR-1987 09:20:23.32</td>\n",
       "    </tr>\n",
       "    <tr>\n",
       "      <th>3</th>\n",
       "      <td>OCCIDENTAL &lt;OXY&gt; OFFICIAL RESIGNS</td>\n",
       "      <td>MidCon Corp, a subsidiary of\\nOccidental Petro...</td>\n",
       "      <td>[]</td>\n",
       "      <td>[usa]</td>\n",
       "      <td>[]</td>\n",
       "      <td>[]</td>\n",
       "      <td>[]</td>\n",
       "      <td>[]</td>\n",
       "      <td>3-MAR-1987 09:21:39.11</td>\n",
       "    </tr>\n",
       "    <tr>\n",
       "      <th>4</th>\n",
       "      <td>ITALY'S BNL TO ISSUE 120 MLN DLR CONVERTIBLE BOND</td>\n",
       "      <td>Italy's state-owned &lt;Banca Nazionale del\\nLavo...</td>\n",
       "      <td>[]</td>\n",
       "      <td>[italy]</td>\n",
       "      <td>[]</td>\n",
       "      <td>[]</td>\n",
       "      <td>[]</td>\n",
       "      <td>[]</td>\n",
       "      <td>3-MAR-1987 09:25:48.88</td>\n",
       "    </tr>\n",
       "  </tbody>\n",
       "</table>\n",
       "</div>"
      ],
      "text/plain": [
       "                                               title  \\\n",
       "0      SANDOZ PLANS WEEDKILLER JOINT VENTURE IN USSR   \n",
       "1   TAIWAN REJECTS TEXTILE MAKERS EXCHANGE RATE PLEA   \n",
       "2               NATIONAL FSI INC <NFSI> 4TH QTR LOSS   \n",
       "3                  OCCIDENTAL <OXY> OFFICIAL RESIGNS   \n",
       "4  ITALY'S BNL TO ISSUE 120 MLN DLR CONVERTIBLE BOND   \n",
       "\n",
       "                                                body  topics         places  \\\n",
       "0  Sandoz AG said it planned a joint venture\\nto ...      []    [usa, ussr]   \n",
       "1  Central bank governor Chang Chi-cheng\\nrejecte...      []  [usa, taiwan]   \n",
       "2  Shr loss six cts vs profit 19 cts\\n    Net los...  [earn]          [usa]   \n",
       "3  MidCon Corp, a subsidiary of\\nOccidental Petro...      []          [usa]   \n",
       "4  Italy's state-owned <Banca Nazionale del\\nLavo...      []        [italy]   \n",
       "\n",
       "  people orgs exchanges companies                     date  \n",
       "0     []   []        []        []   3-MAR-1987 09:18:21.26  \n",
       "1     []   []        []        []   3-MAR-1987 09:19:31.96  \n",
       "2     []   []        []        []   3-MAR-1987 09:20:23.32  \n",
       "3     []   []        []        []   3-MAR-1987 09:21:39.11  \n",
       "4     []   []        []        []   3-MAR-1987 09:25:48.88  "
      ]
     },
     "execution_count": 3,
     "metadata": {},
     "output_type": "execute_result"
    }
   ],
   "source": [
    "import pandas as pd\n",
    "\n",
    "df = pd.DataFrame(list(map(parse_doc, soup.findAll(\"reuters\"))), columns=[\"title\", \"body\", *METADATA_FIELDS, \"date\"])\n",
    "print(df.shape)\n",
    "df.head()"
   ]
  },
  {
   "cell_type": "code",
   "execution_count": 64,
   "metadata": {},
   "outputs": [],
   "source": [
    "#df.reset_index().rename(columns={\"index\": \"id\"}).to_json(path_or_buf=\"data/reuters/test01.json\")"
   ]
  },
  {
   "cell_type": "code",
   "execution_count": 135,
   "metadata": {},
   "outputs": [
    {
     "data": {
      "text/html": [
       "<div>\n",
       "<style scoped>\n",
       "    .dataframe tbody tr th:only-of-type {\n",
       "        vertical-align: middle;\n",
       "    }\n",
       "\n",
       "    .dataframe tbody tr th {\n",
       "        vertical-align: top;\n",
       "    }\n",
       "\n",
       "    .dataframe thead th {\n",
       "        text-align: right;\n",
       "    }\n",
       "</style>\n",
       "<table border=\"1\" class=\"dataframe\">\n",
       "  <thead>\n",
       "    <tr style=\"text-align: right;\">\n",
       "      <th></th>\n",
       "      <th>id</th>\n",
       "      <th>title</th>\n",
       "      <th>body</th>\n",
       "      <th>cleaned</th>\n",
       "    </tr>\n",
       "  </thead>\n",
       "  <tbody>\n",
       "    <tr>\n",
       "      <th>0</th>\n",
       "      <td>0</td>\n",
       "      <td>SANDOZ PLANS WEEDKILLER JOINT VENTURE IN USSR</td>\n",
       "      <td>Sandoz AG said it planned a joint venture\\nto ...</td>\n",
       "      <td>sandoz said planned joint venture produce herb...</td>\n",
       "    </tr>\n",
       "    <tr>\n",
       "      <th>1</th>\n",
       "      <td>1</td>\n",
       "      <td>TAIWAN REJECTS TEXTILE MAKERS EXCHANGE RATE PLEA</td>\n",
       "      <td>Central bank governor Chang Chi-cheng\\nrejecte...</td>\n",
       "      <td>central bank governor chang chi cheng rejected...</td>\n",
       "    </tr>\n",
       "    <tr>\n",
       "      <th>10</th>\n",
       "      <td>10</td>\n",
       "      <td>MINSTAR INC &lt;MNST&gt; 4TH QTR NET</td>\n",
       "      <td>Oper shr loss 31 cts vs loss 30 cts\\n    Oper ...</td>\n",
       "      <td>oper shr loss ct loss ct oper net loss loss re...</td>\n",
       "    </tr>\n",
       "    <tr>\n",
       "      <th>100</th>\n",
       "      <td>100</td>\n",
       "      <td>HOME FEDERAL OF THE ROCKIES &lt;HROK&gt; 4TH QTR LOSS</td>\n",
       "      <td>Shr loss 2.07 dlrs vs profit 36 cts\\n    Net l...</td>\n",
       "      <td>shr loss dlrs profit ct net loss profit year s...</td>\n",
       "    </tr>\n",
       "    <tr>\n",
       "      <th>101</th>\n",
       "      <td>101</td>\n",
       "      <td>CANADA DECEMBER GDP GAINS 1.2 PCT</td>\n",
       "      <td>Canada's gross domestic product, by\\nindustry,...</td>\n",
       "      <td>canada gross domestic product industry rose se...</td>\n",
       "    </tr>\n",
       "  </tbody>\n",
       "</table>\n",
       "</div>"
      ],
      "text/plain": [
       "      id                                             title  \\\n",
       "0      0     SANDOZ PLANS WEEDKILLER JOINT VENTURE IN USSR   \n",
       "1      1  TAIWAN REJECTS TEXTILE MAKERS EXCHANGE RATE PLEA   \n",
       "10    10                    MINSTAR INC <MNST> 4TH QTR NET   \n",
       "100  100   HOME FEDERAL OF THE ROCKIES <HROK> 4TH QTR LOSS   \n",
       "101  101                 CANADA DECEMBER GDP GAINS 1.2 PCT   \n",
       "\n",
       "                                                  body  \\\n",
       "0    Sandoz AG said it planned a joint venture\\nto ...   \n",
       "1    Central bank governor Chang Chi-cheng\\nrejecte...   \n",
       "10   Oper shr loss 31 cts vs loss 30 cts\\n    Oper ...   \n",
       "100  Shr loss 2.07 dlrs vs profit 36 cts\\n    Net l...   \n",
       "101  Canada's gross domestic product, by\\nindustry,...   \n",
       "\n",
       "                                               cleaned  \n",
       "0    sandoz said planned joint venture produce herb...  \n",
       "1    central bank governor chang chi cheng rejected...  \n",
       "10   oper shr loss ct loss ct oper net loss loss re...  \n",
       "100  shr loss dlrs profit ct net loss profit year s...  \n",
       "101  canada gross domestic product industry rose se...  "
      ]
     },
     "execution_count": 135,
     "metadata": {},
     "output_type": "execute_result"
    }
   ],
   "source": [
    "vsm = VSM(data_path=\"data/reuters/test01.json\", posting_path=None)\n",
    "vsm.data.head()"
   ]
  },
  {
   "cell_type": "code",
   "execution_count": 136,
   "metadata": {},
   "outputs": [
    {
     "data": {
      "text/html": [
       "<div>\n",
       "<style scoped>\n",
       "    .dataframe tbody tr th:only-of-type {\n",
       "        vertical-align: middle;\n",
       "    }\n",
       "\n",
       "    .dataframe tbody tr th {\n",
       "        vertical-align: top;\n",
       "    }\n",
       "\n",
       "    .dataframe thead th {\n",
       "        text-align: right;\n",
       "    }\n",
       "</style>\n",
       "<table border=\"1\" class=\"dataframe\">\n",
       "  <thead>\n",
       "    <tr style=\"text-align: right;\">\n",
       "      <th></th>\n",
       "      <th>title</th>\n",
       "      <th>body</th>\n",
       "      <th>confidence</th>\n",
       "    </tr>\n",
       "    <tr>\n",
       "      <th>id</th>\n",
       "      <th></th>\n",
       "      <th></th>\n",
       "      <th></th>\n",
       "    </tr>\n",
       "  </thead>\n",
       "  <tbody>\n",
       "    <tr>\n",
       "      <th>499</th>\n",
       "      <td>None</td>\n",
       "      <td>\\nMIDLAND RIGHTS ISSUE STILL EXPECTED SAY ANAL...</td>\n",
       "      <td>0.606584</td>\n",
       "    </tr>\n",
       "    <tr>\n",
       "      <th>666</th>\n",
       "      <td>&lt;AMERICAN VENTURES INC&gt; HAS COGENERATION FUNDING</td>\n",
       "      <td>American Ventures Inc said it\\nand joint ventu...</td>\n",
       "      <td>0.606584</td>\n",
       "    </tr>\n",
       "    <tr>\n",
       "      <th>646</th>\n",
       "      <td>COLOMBIAN INFLATION RISES 2.03 PCT IN FEBRUARY</td>\n",
       "      <td>colombia's cost of living index rose 2.03\\npct...</td>\n",
       "      <td>0.606584</td>\n",
       "    </tr>\n",
       "    <tr>\n",
       "      <th>647</th>\n",
       "      <td>TALKING POINT/GENERAL MOTORS &lt;GM&gt;</td>\n",
       "      <td>General Motors Corp staged an explosive\\nrally...</td>\n",
       "      <td>0.606584</td>\n",
       "    </tr>\n",
       "    <tr>\n",
       "      <th>650</th>\n",
       "      <td>ECONOMIC SPOTLIGHT - JAPAN LOW GROWTH MODEL</td>\n",
       "      <td>Healthy growth in corporate profits and in\\nco...</td>\n",
       "      <td>0.606584</td>\n",
       "    </tr>\n",
       "  </tbody>\n",
       "</table>\n",
       "</div>"
      ],
      "text/plain": [
       "                                                title  \\\n",
       "id                                                      \n",
       "499                                              None   \n",
       "666  <AMERICAN VENTURES INC> HAS COGENERATION FUNDING   \n",
       "646    COLOMBIAN INFLATION RISES 2.03 PCT IN FEBRUARY   \n",
       "647                 TALKING POINT/GENERAL MOTORS <GM>   \n",
       "650       ECONOMIC SPOTLIGHT - JAPAN LOW GROWTH MODEL   \n",
       "\n",
       "                                                  body  confidence  \n",
       "id                                                                  \n",
       "499  \\nMIDLAND RIGHTS ISSUE STILL EXPECTED SAY ANAL...    0.606584  \n",
       "666  American Ventures Inc said it\\nand joint ventu...    0.606584  \n",
       "646  colombia's cost of living index rose 2.03\\npct...    0.606584  \n",
       "647  General Motors Corp staged an explosive\\nrally...    0.606584  \n",
       "650  Healthy growth in corporate profits and in\\nco...    0.606584  "
      ]
     },
     "execution_count": 136,
     "metadata": {},
     "output_type": "execute_result"
    }
   ],
   "source": [
    "vsm.query(\"year\").head()"
   ]
  },
  {
   "cell_type": "markdown",
   "metadata": {},
   "source": [
    "## Language Model + Query Completion"
   ]
  },
  {
   "cell_type": "code",
   "execution_count": 138,
   "metadata": {},
   "outputs": [
    {
     "data": {
      "text/plain": [
       "96367"
      ]
     },
     "execution_count": 138,
     "metadata": {},
     "output_type": "execute_result"
    }
   ],
   "source": [
    "from itertools import chain\n",
    "\n",
    "cleaned_bigrams = lambda x: char_ngram(clean(x.replace(\".\", \" EOS\"), struct=list, rm_stopwords=False), n=2)\n",
    "#bigrams = list(chain(*vsm.data.body.apply(clean).apply(make_bigrams).tolist()))\n",
    "bigrams = list(chain(*vsm.data.body.apply(cleaned_bigrams).tolist()))\n",
    "\n",
    "len(bigrams)"
   ]
  },
  {
   "cell_type": "code",
   "execution_count": 139,
   "metadata": {},
   "outputs": [
    {
     "data": {
      "text/plain": [
       "[(('eos', 'the'), 1022),\n",
       " (('eos', 'reuter'), 830),\n",
       " (('said', 'eos'), 700),\n",
       " (('eos', 'eos'), 501),\n",
       " (('the', 'company'), 386),\n",
       " (('mln', 'dlrs'), 380),\n",
       " (('said', 'the'), 369),\n",
       " (('for', 'the'), 257),\n",
       " (('eos', 'said'), 213),\n",
       " (('mln', 'mln'), 187)]"
      ]
     },
     "execution_count": 139,
     "metadata": {},
     "output_type": "execute_result"
    }
   ],
   "source": [
    "c = Counter(list(map(tuple, bigrams)))\n",
    "c.most_common(10)"
   ]
  },
  {
   "cell_type": "code",
   "execution_count": 140,
   "metadata": {},
   "outputs": [],
   "source": [
    "vocab = set(x[0] for x in bigrams).union((x[1] for x in bigrams))\n",
    "\n",
    "w2i = dict(map(reversed, enumerate(vocab)))\n",
    "i2w = dict(map(reversed, w2i.items()))\n",
    "\n",
    "vocab_size = len(vocab)"
   ]
  },
  {
   "cell_type": "code",
   "execution_count": 142,
   "metadata": {},
   "outputs": [
    {
     "data": {
      "text/plain": [
       "(7710, 7710)"
      ]
     },
     "execution_count": 142,
     "metadata": {},
     "output_type": "execute_result"
    }
   ],
   "source": [
    "mat = np.zeros((vocab_size, vocab_size))\n",
    "mat.shape"
   ]
  },
  {
   "cell_type": "code",
   "execution_count": 143,
   "metadata": {},
   "outputs": [],
   "source": [
    "for bigram, count in c.items():\n",
    "    idx1, idx2 = map(w2i.get, bigram)\n",
    "    mat[idx1, idx2] = count"
   ]
  },
  {
   "cell_type": "code",
   "execution_count": 144,
   "metadata": {},
   "outputs": [],
   "source": [
    "bgdf = pd.DataFrame(mat / vocab_size)\n",
    "\n",
    "def transition_prob(w1, w2):\n",
    "    return bgdf.loc[w2i[w1], w2i[w2]]"
   ]
  },
  {
   "cell_type": "code",
   "execution_count": 145,
   "metadata": {},
   "outputs": [],
   "source": [
    "q = [\"the\", \"next\", \"year\"]"
   ]
  },
  {
   "cell_type": "code",
   "execution_count": 164,
   "metadata": {},
   "outputs": [],
   "source": [
    "def get_next_n(w, bgdf, n=1):\n",
    "    return list(map(i2w.get, bgdf.loc[w2i[w]].argsort()[::-1][:n]))"
   ]
  },
  {
   "cell_type": "code",
   "execution_count": 165,
   "metadata": {},
   "outputs": [
    {
     "data": {
      "text/plain": [
       "['eos', 'ago', 'and', 'shr', 'earlier']"
      ]
     },
     "execution_count": 165,
     "metadata": {},
     "output_type": "execute_result"
    }
   ],
   "source": [
    "get_next_n(\"year\", bgdf, 5)"
   ]
  },
  {
   "cell_type": "code",
   "execution_count": 169,
   "metadata": {},
   "outputs": [
    {
     "data": {
      "text/plain": [
       "['the next year',\n",
       " 'the next year ago',\n",
       " 'the next year and the company said',\n",
       " 'the next year shr ct net loss dlrs',\n",
       " 'the next year earlier']"
      ]
     },
     "execution_count": 169,
     "metadata": {},
     "output_type": "execute_result"
    }
   ],
   "source": [
    "def complete_query(seed, bgdf, n=5, cap=5):\n",
    "    candidates = []\n",
    "    for c in get_next_n(seed, bgdf, n):\n",
    "        qstr = ' '.join(q)\n",
    "        if c == 'eos':\n",
    "            candidates.append(qstr)\n",
    "            continue\n",
    "        qstr += \" \" + c\n",
    "        nxt = get_next_n(c, bgdf, 1)[0]\n",
    "        i = 0\n",
    "        while(nxt != \"eos\") and i < cap:\n",
    "            qstr += \" \" + nxt\n",
    "            nxt = get_next_n(nxt, bgdf, 1)[0]\n",
    "            i += 1\n",
    "        candidates.append(qstr)\n",
    "    return candidates\n",
    "\n",
    "complete_query(\"year\", bgdf)"
   ]
  },
  {
   "cell_type": "markdown",
   "metadata": {},
   "source": [
    "## KNN + Topic Restriction"
   ]
  },
  {
   "cell_type": "code",
   "execution_count": 191,
   "metadata": {},
   "outputs": [
    {
     "data": {
      "text/html": [
       "<div>\n",
       "<style scoped>\n",
       "    .dataframe tbody tr th:only-of-type {\n",
       "        vertical-align: middle;\n",
       "    }\n",
       "\n",
       "    .dataframe tbody tr th {\n",
       "        vertical-align: top;\n",
       "    }\n",
       "\n",
       "    .dataframe thead th {\n",
       "        text-align: right;\n",
       "    }\n",
       "</style>\n",
       "<table border=\"1\" class=\"dataframe\">\n",
       "  <thead>\n",
       "    <tr style=\"text-align: right;\">\n",
       "      <th></th>\n",
       "      <th>title</th>\n",
       "      <th>body</th>\n",
       "      <th>topics</th>\n",
       "      <th>places</th>\n",
       "      <th>people</th>\n",
       "      <th>orgs</th>\n",
       "      <th>exchanges</th>\n",
       "      <th>companies</th>\n",
       "      <th>date</th>\n",
       "    </tr>\n",
       "  </thead>\n",
       "  <tbody>\n",
       "    <tr>\n",
       "      <th>2</th>\n",
       "      <td>NATIONAL FSI INC &lt;NFSI&gt; 4TH QTR LOSS</td>\n",
       "      <td>Shr loss six cts vs profit 19 cts\\n    Net los...</td>\n",
       "      <td>[earn]</td>\n",
       "      <td>[usa]</td>\n",
       "      <td>[]</td>\n",
       "      <td>[]</td>\n",
       "      <td>[]</td>\n",
       "      <td>[]</td>\n",
       "      <td>3-MAR-1987 09:20:23.32</td>\n",
       "    </tr>\n",
       "    <tr>\n",
       "      <th>6</th>\n",
       "      <td>&lt;PRECAMBRIAN SHIELD RESOURCES LTD&gt; YEAR LOSS</td>\n",
       "      <td>Shr loss 1.93 dlrs vs profit 16 cts\\n    Net l...</td>\n",
       "      <td>[earn]</td>\n",
       "      <td>[canada]</td>\n",
       "      <td>[]</td>\n",
       "      <td>[]</td>\n",
       "      <td>[]</td>\n",
       "      <td>[]</td>\n",
       "      <td>3-MAR-1987 09:30:07.60</td>\n",
       "    </tr>\n",
       "    <tr>\n",
       "      <th>7</th>\n",
       "      <td>U.K. MONEY MARKET GIVEN FURTHER 437 MLN STG HELP</td>\n",
       "      <td>The Bank of England said it had provided the\\n...</td>\n",
       "      <td>[money-fx, interest]</td>\n",
       "      <td>[uk]</td>\n",
       "      <td>[]</td>\n",
       "      <td>[]</td>\n",
       "      <td>[]</td>\n",
       "      <td>[]</td>\n",
       "      <td>3-MAR-1987 09:30:48.45</td>\n",
       "    </tr>\n",
       "    <tr>\n",
       "      <th>8</th>\n",
       "      <td>GREASE MONKEY HOLDING CORP &lt;GMHC&gt; YEAR NOV 30</td>\n",
       "      <td>Shr nil vs nil\\n    Net 130,998 vs 30,732\\n   ...</td>\n",
       "      <td>[earn]</td>\n",
       "      <td>[usa]</td>\n",
       "      <td>[]</td>\n",
       "      <td>[]</td>\n",
       "      <td>[]</td>\n",
       "      <td>[]</td>\n",
       "      <td>3-MAR-1987 09:32:34.04</td>\n",
       "    </tr>\n",
       "    <tr>\n",
       "      <th>9</th>\n",
       "      <td>ACCEPTANCE INSURANCE HOLDINGS INC &lt;ACPT&gt; YEAR</td>\n",
       "      <td>Oper shr profit 1.80 dlrs vs loss 2.28 dlrs\\n ...</td>\n",
       "      <td>[earn]</td>\n",
       "      <td>[usa]</td>\n",
       "      <td>[]</td>\n",
       "      <td>[]</td>\n",
       "      <td>[]</td>\n",
       "      <td>[]</td>\n",
       "      <td>3-MAR-1987 09:33:32.98</td>\n",
       "    </tr>\n",
       "  </tbody>\n",
       "</table>\n",
       "</div>"
      ],
      "text/plain": [
       "                                              title  \\\n",
       "2              NATIONAL FSI INC <NFSI> 4TH QTR LOSS   \n",
       "6      <PRECAMBRIAN SHIELD RESOURCES LTD> YEAR LOSS   \n",
       "7  U.K. MONEY MARKET GIVEN FURTHER 437 MLN STG HELP   \n",
       "8     GREASE MONKEY HOLDING CORP <GMHC> YEAR NOV 30   \n",
       "9     ACCEPTANCE INSURANCE HOLDINGS INC <ACPT> YEAR   \n",
       "\n",
       "                                                body                topics  \\\n",
       "2  Shr loss six cts vs profit 19 cts\\n    Net los...                [earn]   \n",
       "6  Shr loss 1.93 dlrs vs profit 16 cts\\n    Net l...                [earn]   \n",
       "7  The Bank of England said it had provided the\\n...  [money-fx, interest]   \n",
       "8  Shr nil vs nil\\n    Net 130,998 vs 30,732\\n   ...                [earn]   \n",
       "9  Oper shr profit 1.80 dlrs vs loss 2.28 dlrs\\n ...                [earn]   \n",
       "\n",
       "     places people orgs exchanges companies                     date  \n",
       "2     [usa]     []   []        []        []   3-MAR-1987 09:20:23.32  \n",
       "6  [canada]     []   []        []        []   3-MAR-1987 09:30:07.60  \n",
       "7      [uk]     []   []        []        []   3-MAR-1987 09:30:48.45  \n",
       "8     [usa]     []   []        []        []   3-MAR-1987 09:32:34.04  \n",
       "9     [usa]     []   []        []        []   3-MAR-1987 09:33:32.98  "
      ]
     },
     "execution_count": 191,
     "metadata": {},
     "output_type": "execute_result"
    }
   ],
   "source": [
    "train = df[df.topics.apply(bool)]\n",
    "train.head()"
   ]
  },
  {
   "cell_type": "code",
   "execution_count": 195,
   "metadata": {},
   "outputs": [
    {
     "data": {
      "text/plain": [
       "['rice', 'reserves', 'soy-meal', 'ship', 'potato']"
      ]
     },
     "execution_count": 195,
     "metadata": {},
     "output_type": "execute_result"
    }
   ],
   "source": [
    "topics = list(set(chain(*train.topics.apply(tuple).unique())))\n",
    "topics[:5]"
   ]
  },
  {
   "cell_type": "code",
   "execution_count": 201,
   "metadata": {},
   "outputs": [
    {
     "data": {
      "text/plain": [
       "524"
      ]
     },
     "execution_count": 201,
     "metadata": {},
     "output_type": "execute_result"
    }
   ],
   "source": [
    "t2i = dict(map(reversed, enumerate(topics)))\n",
    "y = train.topics.apply(lambda x: list(map(t2i.get, x))[0]).tolist()\n",
    "len(y)"
   ]
  },
  {
   "cell_type": "code",
   "execution_count": 222,
   "metadata": {},
   "outputs": [
    {
     "data": {
      "text/plain": [
       "(473, 9)"
      ]
     },
     "execution_count": 222,
     "metadata": {},
     "output_type": "execute_result"
    }
   ],
   "source": [
    "test = df[~df.title.isin(train.title)]\n",
    "test.shape"
   ]
  },
  {
   "cell_type": "code",
   "execution_count": 278,
   "metadata": {},
   "outputs": [],
   "source": [
    "\"\"\"\n",
    "Uses matrix multiplication to find `k` most similar documents.\n",
    "Grabs their labels, flattens (5 docs may have 8 labels or something),\n",
    "and returns most frequent.\n",
    "\"\"\"\n",
    "\n",
    "def knn(x, k=5):\n",
    "    X = vsm.d_w.loc[x]\n",
    "    nn = []\n",
    "    for neighbor in vsm.d_w.values.dot(X).argsort()[::-1]:\n",
    "        if len(nn) == k:\n",
    "            break\n",
    "        t = df.topics[neighbor]\n",
    "        if t:\n",
    "            nn.append(t)\n",
    "\n",
    "    labels = list(chain(*nn))\n",
    "    return Counter(labels).most_common(1)[0][0]"
   ]
  },
  {
   "cell_type": "code",
   "execution_count": 281,
   "metadata": {},
   "outputs": [
    {
     "data": {
      "text/plain": [
       "'coffee'"
      ]
     },
     "execution_count": 281,
     "metadata": {},
     "output_type": "execute_result"
    }
   ],
   "source": [
    "knn(0, k=5)"
   ]
  },
  {
   "cell_type": "markdown",
   "metadata": {},
   "source": [
    "## K-Means"
   ]
  },
  {
   "cell_type": "code",
   "execution_count": 329,
   "metadata": {},
   "outputs": [
    {
     "data": {
      "text/plain": [
       "Counter({5: 845,\n",
       "         1: 132,\n",
       "         0: 1,\n",
       "         15: 1,\n",
       "         19: 1,\n",
       "         8: 1,\n",
       "         21: 1,\n",
       "         23: 1,\n",
       "         20: 1,\n",
       "         12: 1,\n",
       "         7: 1,\n",
       "         14: 1,\n",
       "         17: 1,\n",
       "         3: 1,\n",
       "         4: 1,\n",
       "         18: 1,\n",
       "         9: 1,\n",
       "         2: 1,\n",
       "         13: 1,\n",
       "         11: 1,\n",
       "         22: 1,\n",
       "         24: 1,\n",
       "         6: 1,\n",
       "         16: 1,\n",
       "         10: 1})"
      ]
     },
     "execution_count": 329,
     "metadata": {},
     "output_type": "execute_result"
    }
   ],
   "source": [
    "from sklearn.cluster import KMeans\n",
    "kmeans = KMeans(n_clusters=25).fit(vsm.d_w)\n",
    "Counter(kmeans.labels_)"
   ]
  },
  {
   "cell_type": "code",
   "execution_count": 323,
   "metadata": {},
   "outputs": [
    {
     "name": "stderr",
     "output_type": "stream",
     "text": [
      "'c' argument looks like a single numeric RGB or RGBA sequence, which should be avoided as value-mapping will have precedence in case its length matches with 'x' & 'y'.  Please use a 2-D array with a single row if you really want to specify the same RGB or RGBA value for all points.\n",
      "'c' argument looks like a single numeric RGB or RGBA sequence, which should be avoided as value-mapping will have precedence in case its length matches with 'x' & 'y'.  Please use a 2-D array with a single row if you really want to specify the same RGB or RGBA value for all points.\n",
      "'c' argument looks like a single numeric RGB or RGBA sequence, which should be avoided as value-mapping will have precedence in case its length matches with 'x' & 'y'.  Please use a 2-D array with a single row if you really want to specify the same RGB or RGBA value for all points.\n",
      "'c' argument looks like a single numeric RGB or RGBA sequence, which should be avoided as value-mapping will have precedence in case its length matches with 'x' & 'y'.  Please use a 2-D array with a single row if you really want to specify the same RGB or RGBA value for all points.\n",
      "'c' argument looks like a single numeric RGB or RGBA sequence, which should be avoided as value-mapping will have precedence in case its length matches with 'x' & 'y'.  Please use a 2-D array with a single row if you really want to specify the same RGB or RGBA value for all points.\n"
     ]
    },
    {
     "data": {
      "image/png": "[encoded data removed]",
      "text/plain": [
       "<Figure size 432x288 with 1 Axes>"
      ]
     },
     "metadata": {},
     "output_type": "display_data"
    }
   ],
   "source": [
    "from yellowbrick.text import TSNEVisualizer # https://www.scikit-yb.org/en/latest/api/text/tsne.html\n",
    "import matplotlib.pyplot as plt\n",
    "\n",
    "tsne = TSNEVisualizer()\n",
    "tsne.fit(vsm.d_w, kmeans.labels_)\n",
    "tsne.poof()\n",
    "plt.show()"
   ]
  },
  {
   "cell_type": "code",
   "execution_count": 305,
   "metadata": {},
   "outputs": [
    {
     "data": {
      "text/plain": [
       "(1000, 9592)"
      ]
     },
     "execution_count": 305,
     "metadata": {},
     "output_type": "execute_result"
    }
   ],
   "source": [
    "from sklearn.feature_extraction.text import CountVectorizer\n",
    "count_vect = CountVectorizer()\n",
    "X_train_counts = count_vect.fit_transform(df.body)\n",
    "X_train_counts.shape"
   ]
  },
  {
   "cell_type": "code",
   "execution_count": 316,
   "metadata": {},
   "outputs": [
    {
     "data": {
      "text/plain": [
       "Counter({1: 223, 0: 103, 4: 564, 3: 79, 2: 31})"
      ]
     },
     "execution_count": 316,
     "metadata": {},
     "output_type": "execute_result"
    }
   ],
   "source": [
    "kmeans = KMeans(n_clusters=5).fit(X_train_counts)\n",
    "Counter(kmeans.labels_)"
   ]
  },
  {
   "cell_type": "code",
   "execution_count": 321,
   "metadata": {},
   "outputs": [
    {
     "name": "stderr",
     "output_type": "stream",
     "text": [
      "'c' argument looks like a single numeric RGB or RGBA sequence, which should be avoided as value-mapping will have precedence in case its length matches with 'x' & 'y'.  Please use a 2-D array with a single row if you really want to specify the same RGB or RGBA value for all points.\n",
      "'c' argument looks like a single numeric RGB or RGBA sequence, which should be avoided as value-mapping will have precedence in case its length matches with 'x' & 'y'.  Please use a 2-D array with a single row if you really want to specify the same RGB or RGBA value for all points.\n",
      "'c' argument looks like a single numeric RGB or RGBA sequence, which should be avoided as value-mapping will have precedence in case its length matches with 'x' & 'y'.  Please use a 2-D array with a single row if you really want to specify the same RGB or RGBA value for all points.\n",
      "'c' argument looks like a single numeric RGB or RGBA sequence, which should be avoided as value-mapping will have precedence in case its length matches with 'x' & 'y'.  Please use a 2-D array with a single row if you really want to specify the same RGB or RGBA value for all points.\n",
      "'c' argument looks like a single numeric RGB or RGBA sequence, which should be avoided as value-mapping will have precedence in case its length matches with 'x' & 'y'.  Please use a 2-D array with a single row if you really want to specify the same RGB or RGBA value for all points.\n"
     ]
    },
    {
     "data": {
      "image/png": "[encoded data removed]",
      "text/plain": [
       "<Figure size 432x288 with 1 Axes>"
      ]
     },
     "metadata": {},
     "output_type": "display_data"
    }
   ],
   "source": [
    "tsne = TSNEVisualizer()\n",
    "tsne.fit(X_train_counts, kmeans.labels_)\n",
    "tsne.poof()\n",
    "plt.show()"
   ]
  },
  {
   "cell_type": "code",
   "execution_count": 298,
   "metadata": {},
   "outputs": [],
   "source": [
    "import scipy.spatial as sp\n",
    "1 - sp.distance.cdist(matrix1, matrix2, 'cosine')"
   ]
  },
  {
   "cell_type": "markdown",
   "metadata": {},
   "source": [
    "## Thesaurus Construction - Word Embeddings\n",
    "\n",
    "https://pytorch.org/tutorials/beginner/nlp/word_embeddings_tutorial.html"
   ]
  },
  {
   "cell_type": "code",
   "execution_count": 330,
   "metadata": {},
   "outputs": [],
   "source": [
    "import torch\n",
    "import torch.nn as nn\n",
    "import torch.nn.functional as F\n",
    "import torch.optim as optim"
   ]
  },
  {
   "cell_type": "code",
   "execution_count": 331,
   "metadata": {},
   "outputs": [],
   "source": []
  },
  {
   "cell_type": "code",
   "execution_count": 334,
   "metadata": {},
   "outputs": [
    {
     "data": {
      "text/plain": [
       "95367"
      ]
     },
     "execution_count": 334,
     "metadata": {},
     "output_type": "execute_result"
    }
   ],
   "source": [
    "cleaned_trigrams = lambda x: char_ngram(clean(x.replace(\".\", \" EOS\"), struct=list, rm_stopwords=False), n=3)\n",
    "#bigrams = list(chain(*vsm.data.body.apply(clean).apply(make_bigrams).tolist()))\n",
    "trigrams = list(chain(*vsm.data.body.apply(cleaned_trigrams).tolist()))\n",
    "\n",
    "len(trigrams)"
   ]
  },
  {
   "cell_type": "code",
   "execution_count": 335,
   "metadata": {},
   "outputs": [
    {
     "data": {
      "text/plain": [
       "['sandoz', 'said', 'planned']"
      ]
     },
     "execution_count": 335,
     "metadata": {},
     "output_type": "execute_result"
    }
   ],
   "source": [
    "trigrams[0]"
   ]
  },
  {
   "cell_type": "code",
   "execution_count": 340,
   "metadata": {},
   "outputs": [],
   "source": [
    "from tqdm import tqdm_notebook as tqdm\n",
    "\n",
    "CONTEXT_SIZE = 2\n",
    "EMBEDDING_DIM = 100\n",
    "\n",
    "losses = []\n",
    "loss_function = nn.NLLLoss()\n",
    "model = NGramLanguageModeler(len(vocab), EMBEDDING_DIM, CONTEXT_SIZE)\n",
    "optimizer = optim.SGD(model.parameters(), lr=0.0001)"
   ]
  },
  {
   "cell_type": "code",
   "execution_count": 341,
   "metadata": {},
   "outputs": [
    {
     "data": {
      "application/vnd.jupyter.widget-view+json": {
       "model_id": "9ea2e810f96d441bb3dee4524e626505",
       "version_major": 2,
       "version_minor": 0
      },
      "text/plain": [
       "HBox(children=(IntProgress(value=0, max=95367), HTML(value='')))"
      ]
     },
     "metadata": {},
     "output_type": "display_data"
    },
    {
     "name": "stdout",
     "output_type": "stream",
     "text": [
      "[686894.960793972]\n"
     ]
    }
   ],
   "source": [
    "for epoch in range(1):\n",
    "    total_loss = 0\n",
    "    for c1, c2, target in tqdm(trigrams):\n",
    "        context = [c1, c2]\n",
    "\n",
    "        # Step 1. Prepare the inputs to be passed to the model (i.e, turn the words\n",
    "        # into integer indices and wrap them in tensors)\n",
    "        context_idxs = torch.tensor([w2i[w] for w in context], dtype=torch.long)\n",
    "\n",
    "        # Step 2. Recall that torch *accumulates* gradients. Before passing in a\n",
    "        # new instance, you need to zero out the gradients from the old\n",
    "        # instance\n",
    "        model.zero_grad()\n",
    "\n",
    "        # Step 3. Run the forward pass, getting log probabilities over next\n",
    "        # words\n",
    "        log_probs = model(context_idxs)\n",
    "\n",
    "        # Step 4. Compute your loss function. (Again, Torch wants the target\n",
    "        # word wrapped in a tensor)\n",
    "        loss = loss_function(log_probs, torch.tensor([w2i[target]], dtype=torch.long))\n",
    "\n",
    "        # Step 5. Do the backward pass and update the gradient\n",
    "        loss.backward()\n",
    "        optimizer.step()\n",
    "\n",
    "        # Get the Python number from a 1-element Tensor by calling tensor.item()\n",
    "        total_loss += loss.item()\n",
    "    losses.append(total_loss)\n",
    "print(losses)  # The loss decreased every iteration over the training data!"
   ]
  },
  {
   "cell_type": "code",
   "execution_count": 352,
   "metadata": {},
   "outputs": [
    {
     "data": {
      "text/plain": [
       "'eos'"
      ]
     },
     "execution_count": 352,
     "metadata": {},
     "output_type": "execute_result"
    }
   ],
   "source": [
    "c1, c2, t = trigrams[0]\n",
    "i2w[model(torch.tensor([w2i[c1], w2i[c2]])).argmax().item()]"
   ]
  },
  {
   "cell_type": "code",
   "execution_count": 381,
   "metadata": {},
   "outputs": [
    {
     "data": {
      "text/plain": [
       "['buck', 'asserts', 'party', 'moscow', 'unforgivable']"
      ]
     },
     "execution_count": 381,
     "metadata": {},
     "output_type": "execute_result"
    }
   ],
   "source": [
    "def lookup(w):\n",
    "    return model.embeddings(torch.tensor(w2i[w]))\n",
    "\n",
    "\n",
    "def nearest_neighbors(w, n=1):\n",
    "    v = lookup(w)\n",
    "    mat = torch.matmul(yr, model.embeddings.weight.transpose(0, 1))\n",
    "    #closest = torch.argsort(mat, descending=True) # upgrade pytorch\n",
    "    closest = mat.data.numpy().argsort()[::-1]\n",
    "    \n",
    "    return list(map(i2w.get, closest[1:n+1]))\n",
    "\n",
    "nearest_neighbors(\"year\", 5)"
   ]
  },
  {
   "cell_type": "code",
   "execution_count": 382,
   "metadata": {},
   "outputs": [],
   "source": [
    "class Vocab:\n",
    "    def __init__(self, name=None):\n",
    "        self.name = name\n",
    "        self.word2index = {}\n",
    "        self.word2count = {}\n",
    "        self.index2word = {PAD_token: \"PAD\", SOS_token: \"SOS\", EOS_token: \"EOS\"}\n",
    "        self.num_words = 3  # Count SOS, EOS, PAD\n",
    "        self.ngrams = []\n",
    "    \n",
    "    def addList(self, word_list):\n",
    "        for word in word_list:\n",
    "            self.addWord(word)\n",
    "        self.save_ngrams(word_list)\n",
    "    \n",
    "    def addSentence(self, sentence):\n",
    "        self.addList(sentence.split(' '))\n",
    "\n",
    "    def addWord(self, word):\n",
    "        if word not in self.word2index:\n",
    "            self.word2index[word] = self.num_words\n",
    "            self.word2count[word] = 1\n",
    "            self.index2word[self.num_words] = word\n",
    "            self.num_words += 1\n",
    "        else:\n",
    "            self.word2count[word] += 1\n",
    "            \n",
    "    def save_ngrams(self, w, n=3):\n",
    "        grams = [(w[i:i+n-1], w[i+n-1]) for i in range(len(w)-n+1)]\n",
    "        self.ngrams.extend(grams)\n",
    "        \n",
    "        return grams\n",
    "    \n",
    "    def sent2tensor(self, sent):\n",
    "        return torch.tensor([self.word2index[w] for w in sent], dtype=torch.long)\n",
    "    \n",
    "    def __len__(self):\n",
    "        return self.num_words"
   ]
  },
  {
   "cell_type": "code",
   "execution_count": null,
   "metadata": {},
   "outputs": [],
   "source": []
  }
 ],
 "metadata": {
  "kernelspec": {
   "display_name": "Python 3",
   "language": "python",
   "name": "python3"
  },
  "language_info": {
   "codemirror_mode": {
    "name": "ipython",
    "version": 3
   },
   "file_extension": ".py",
   "mimetype": "text/x-python",
   "name": "python",
   "nbconvert_exporter": "python",
   "pygments_lexer": "ipython3",
   "version": "3.6.8"
  }
 },
 "nbformat": 4,
 "nbformat_minor": 2
}
