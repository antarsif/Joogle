{
 "cells": [
  {
   "cell_type": "markdown",
   "metadata": {},
   "source": [
    "# Joogle - CSI4107 Search Engine Project\n",
    "#### By: Jacob Danovitch"
   ]
  },
  {
   "cell_type": "markdown",
   "metadata": {},
   "source": [
    "## System Architecture"
   ]
  },
  {
   "cell_type": "markdown",
   "metadata": {},
   "source": [
    "## Modules - Mandatory"
   ]
  },
  {
   "cell_type": "markdown",
   "metadata": {},
   "source": [
    "### Corpus Pre-Processing"
   ]
  },
  {
   "cell_type": "markdown",
   "metadata": {},
   "source": [
    "#### File(s) \n",
    "\n",
    "* `uottawa_scrape.py`\n",
    "\n",
    "#### Description\n",
    "\n",
    "This module scrapes and parses the uOttawa course catalogue using `requests` and `beautifulsoup4`, saving the data to [`data/catalogue-uottawa-ca.json`](data/catalogue-uottawa-ca.json).\n",
    "\n",
    "#### Demonstration"
   ]
  },
  {
   "cell_type": "markdown",
   "metadata": {},
   "source": [
    "First, the HTML is acquired using the `requests` library. "
   ]
  },
  {
   "cell_type": "code",
   "execution_count": 1,
   "metadata": {},
   "outputs": [
    {
     "name": "stderr",
     "output_type": "stream",
     "text": [
      "/home/jacobgdt/.local/lib/python3.6/site-packages/requests/__init__.py:91: RequestsDependencyWarning: urllib3 (1.24) or chardet (2.3.0) doesn't match a supported version!\n",
      "  RequestsDependencyWarning)\n"
     ]
    }
   ],
   "source": [
    "from uottawa_scrape import *"
   ]
  },
  {
   "cell_type": "code",
   "execution_count": 2,
   "metadata": {},
   "outputs": [
    {
     "name": "stdout",
     "output_type": "stream",
     "text": [
      "<div class=\"courseblock\">\n",
      " <p class=\"courseblocktitle noindent\">\n",
      "  <strong>\n",
      "   CSI 1306 Computing Concepts for Business (3 units)\n",
      "  </strong>\n",
      " </p>\n",
      " <p class=\"courseblockdesc noindent\">\n",
      "  Introduction to computer-based problem solving from the perspective of the business world. Design of algorithms for solving business problems. Basics of computer programming in a modern programming language. Solving business problems using application packages including spreadsheets and databases. Basics of web design. Collaborative tools. Using open source software.\n",
      " </p>\n",
      " <p class=\"courseblockextra noindent\">\n",
      "  <strong>\n",
      "   Course Component:\n",
      "  </strong>\n",
      "  Laboratory, Lecture\n",
      " </p>\n",
      " <p class=\"courseblockextra highlight noindent\">\n",
      "  The courses\n",
      "  <a class=\"bubblelink code\" href=\"/search/?P=ITI%201120\" onclick=\"return showCourse(this, 'ITI 1120');\" title=\"ITI 1120\">\n",
      "   ITI 1120\n",
      "  </a>\n",
      "  ,\n",
      "  <a class=\"bubblelink code\" href=\"/search/?P=GNG%201106\" onclick=\"return showCourse(this, 'GNG 1106');\" title=\"GNG 1106\">\n",
      "   GNG 1106\n",
      "  </a>\n",
      "  ,\n",
      "  <a class=\"bubblelink code\" href=\"/search/?P=CSI%201306\" onclick=\"return showCourse(this, 'CSI 1306');\" title=\"CSI 1306\">\n",
      "   CSI 1306\n",
      "  </a>\n",
      "  ,\n",
      "  <a class=\"bubblelink code\" href=\"/search/?P=CSI%201308\" onclick=\"return showCourse(this, 'CSI 1308');\" title=\"CSI 1308\">\n",
      "   CSI 1308\n",
      "  </a>\n",
      "  ,\n",
      "  <a class=\"bubblelink code\" href=\"/search/?P=CSI%201390\" onclick=\"return showCourse(this, 'CSI 1390');\" title=\"CSI 1390\">\n",
      "   CSI 1390\n",
      "  </a>\n",
      "  cannot be combined for credits.\n",
      " </p>\n",
      "</div>\n",
      "\n"
     ]
    }
   ],
   "source": [
    "html = scrape(to_file=False)\n",
    "print(html.find(\"div\", {\"class\": \"courseblock\"}).prettify())"
   ]
  },
  {
   "cell_type": "markdown",
   "metadata": {},
   "source": [
    "The HTML is then parsed using `beautifulsoup4`, such that it is stored in the following format."
   ]
  },
  {
   "cell_type": "code",
   "execution_count": 3,
   "metadata": {},
   "outputs": [
    {
     "name": "stdout",
     "output_type": "stream",
     "text": [
      "{'id': 0, 'title': 'CSI 1306 Computing Concepts for Business (3 units)', 'body': 'Introduction to computer-based problem solving from the perspective of the business world. Design of algorithms for solving business problems. Basics of computer programming in a modern programming language. Solving business problems using application packages including spreadsheets and databases. Basics of web design. Collaborative tools. Using open source software.'}\n"
     ]
    }
   ],
   "source": [
    "output = to_json(html, filename=None)\n",
    "print(output[0])"
   ]
  },
  {
   "cell_type": "markdown",
   "metadata": {},
   "source": [
    "This format facilitates easily manipulating and rendering the data using other modules."
   ]
  },
  {
   "cell_type": "markdown",
   "metadata": {},
   "source": [
    "### User Interface"
   ]
  },
  {
   "cell_type": "markdown",
   "metadata": {},
   "source": [
    "#### File(s) \n",
    "\n",
    "* `app.py`\n",
    "* `templates/`\n",
    "    * `static/`\n",
    "        * `css/`\n",
    "        * `js/`\n",
    "        * `img/`\n",
    "    * `index.html`\n",
    "    * `layouts.html`\n",
    "    * `about.html`\n",
    "    * `404.html`\n",
    "\n",
    "\n",
    "#### Description\n",
    "\n",
    "This module is implemented as a small Flask app. The UI is a parody of Google (see acknowledgements section below), allowing users to search the catalogue using either retrieval module.\n",
    "\n",
    "#### Demonstration\n",
    "\n",
    "See [Demo](#Demo) below for a full demonstration."
   ]
  },
  {
   "cell_type": "markdown",
   "metadata": {},
   "source": [
    "### Dictionary building"
   ]
  },
  {
   "cell_type": "markdown",
   "metadata": {},
   "source": [
    "#### File(s) \n",
    "\n",
    "* \n",
    "\n",
    "\n",
    "#### Description\n",
    "\n",
    "#### Demonstration"
   ]
  },
  {
   "cell_type": "markdown",
   "metadata": {},
   "source": [
    "### Inverted Index Construction"
   ]
  },
  {
   "cell_type": "markdown",
   "metadata": {},
   "source": [
    "#### File(s) \n",
    "\n",
    "* \n",
    "\n",
    "\n",
    "#### Description\n",
    "\n",
    "#### Demonstration"
   ]
  },
  {
   "cell_type": "markdown",
   "metadata": {},
   "source": [
    "### Corpus Access"
   ]
  },
  {
   "cell_type": "markdown",
   "metadata": {},
   "source": [
    "#### File(s) \n",
    "\n",
    "* \n",
    "\n",
    "\n",
    "#### Description\n",
    "\n",
    "#### Demonstration"
   ]
  },
  {
   "cell_type": "markdown",
   "metadata": {},
   "source": [
    "### Boolean model of information retrieval"
   ]
  },
  {
   "cell_type": "markdown",
   "metadata": {},
   "source": [
    "#### File(s) \n",
    "\n",
    "* \n",
    "\n",
    "\n",
    "#### Description\n",
    "\n",
    "#### Demonstration"
   ]
  },
  {
   "cell_type": "markdown",
   "metadata": {},
   "source": [
    "### Vector Space Model of information retrieval"
   ]
  },
  {
   "cell_type": "markdown",
   "metadata": {},
   "source": [
    "#### File(s) \n",
    "\n",
    "* \n",
    "\n",
    "\n",
    "#### Description\n",
    "\n",
    "#### Demonstration"
   ]
  },
  {
   "cell_type": "markdown",
   "metadata": {},
   "source": [
    "## Modules - Optional"
   ]
  },
  {
   "cell_type": "markdown",
   "metadata": {},
   "source": [
    "### Phrase Query Indexing"
   ]
  },
  {
   "cell_type": "markdown",
   "metadata": {},
   "source": [
    "#### File(s) \n",
    "\n",
    "* \n",
    "\n",
    "\n",
    "#### Description\n",
    "\n",
    "#### Demonstration"
   ]
  },
  {
   "cell_type": "markdown",
   "metadata": {},
   "source": [
    "### Spelling Correction"
   ]
  },
  {
   "cell_type": "markdown",
   "metadata": {},
   "source": [
    "#### File(s) \n",
    "\n",
    "* \n",
    "\n",
    "\n",
    "#### Description\n",
    "\n",
    "#### Demonstration"
   ]
  },
  {
   "cell_type": "markdown",
   "metadata": {},
   "source": []
  },
  {
   "cell_type": "markdown",
   "metadata": {},
   "source": [
    "## Demo"
   ]
  },
  {
   "cell_type": "code",
   "execution_count": null,
   "metadata": {},
   "outputs": [],
   "source": []
  },
  {
   "cell_type": "markdown",
   "metadata": {},
   "source": [
    "## Acknowledgements"
   ]
  },
  {
   "cell_type": "code",
   "execution_count": null,
   "metadata": {},
   "outputs": [],
   "source": []
  }
 ],
 "metadata": {
  "kernelspec": {
   "display_name": "Python 3",
   "language": "python",
   "name": "python3"
  },
  "language_info": {
   "codemirror_mode": {
    "name": "ipython",
    "version": 3
   },
   "file_extension": ".py",
   "mimetype": "text/x-python",
   "name": "python",
   "nbconvert_exporter": "python",
   "pygments_lexer": "ipython3",
   "version": "3.6.8"
  }
 },
 "nbformat": 4,
 "nbformat_minor": 2
}
